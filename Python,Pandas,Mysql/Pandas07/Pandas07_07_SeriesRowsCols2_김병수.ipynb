{
 "cells": [
  {
   "cell_type": "code",
   "execution_count": 1,
   "metadata": {},
   "outputs": [],
   "source": [
    "import pandas as pd"
   ]
  },
  {
   "cell_type": "code",
   "execution_count": 5,
   "metadata": {},
   "outputs": [
    {
     "name": "stdout",
     "output_type": "stream",
     "text": [
      "   이름  수학  영어   음악   체육\n",
      "0  서준  90  98   85  100\n",
      "1  우현  80  89   95   90\n",
      "2  인아  70  95  100   90 \n",
      "\n",
      "    수학  영어   음악   체육\n",
      "이름                  \n",
      "서준  90  98   85  100\n",
      "우현  80  89   95   90\n",
      "인아  70  95  100   90 \n",
      "\n",
      "85 \n",
      "\n",
      "85 \n",
      "\n",
      "음악     85\n",
      "체육    100\n",
      "Name: 서준, dtype: int64 \n",
      "\n",
      "음악     85\n",
      "체육    100\n",
      "Name: 서준, dtype: int64 \n",
      "\n",
      "음악     85\n",
      "체육    100\n",
      "Name: 서준, dtype: int64 \n",
      "\n",
      "음악     85\n",
      "체육    100\n",
      "Name: 서준, dtype: int64 \n",
      "\n",
      "    음악   체육\n",
      "이름         \n",
      "서준  85  100\n",
      "우현  95   90 \n",
      "\n",
      "df.iloc[[0,1],[2,3]]\n",
      "     음악   체육\n",
      "이름         \n",
      "서준  85  100\n",
      "우현  95   90 \n",
      "\n",
      "df.loc['서준':'우현','음악','체육']\n",
      ",i,'\n",
      "'\n",
      "    음악   체육\n",
      "이름         \n",
      "서준  85  100\n",
      "우현  95   90\n"
     ]
    }
   ],
   "source": [
    "exam_data = {'이름':['서준','우현','인아'],\n",
    "            '수학':[90,80,70],\n",
    "            '영어':[98,89,95],\n",
    "            '음악':[85,95,100],\n",
    "            '체육':[100,90,90]}\n",
    "df = pd.DataFrame(exam_data)\n",
    "print(df,'\\n')\n",
    "\n",
    "#'이름'열을 새로운 인덱스로 지정하고 , df 객체에 변경사항 반영\n",
    "df.set_index('이름',inplace=True)\n",
    "print(df,'\\n')\n",
    "\n",
    "#데이터프레임 df의 특정원소 1개 선택('서준'의 '음악'점수)\n",
    "a = df.loc['서준','음악']\n",
    "print(a,'\\n')\n",
    "b = df.iloc[0,2]\n",
    "print(b,'\\n')\n",
    "\n",
    "#데이터프레임 df의 특정 원소 2개 이상 선택 ('서준'의 '음악','체육' 점수)\n",
    "c = df.loc['서준',['음악','체육']]\n",
    "print(c,'\\n')\n",
    "d = df.iloc[0,[2,3]]\n",
    "print(d,'\\n')\n",
    "e = df.loc['서준','음악':'체육']\n",
    "print(e,'\\n')\n",
    "f = df.iloc[0,2:]\n",
    "print(f,'\\n')\n",
    "\n",
    "#df의 2개 이상의 행과 열로부터 원소 선택('서준','우현'의 ' 음악','체육'점수)\n",
    "g = df.loc[['서준','우현'],['음악','체육']]\n",
    "print(g,'\\n')\n",
    "h = df.iloc[[0,1],[2,3]]\n",
    "print(\"df.iloc[[0,1],[2,3]]\\n\",h,'\\n')\n",
    "i = df.loc['서준':'우현','음악':'체육']\n",
    "print(\"df.loc['서준':'우현','음악','체육']\\n,i,'\\n'\")\n",
    "j= df.iloc[0:2,2:]\n",
    "print(j)"
   ]
  }
 ],
 "metadata": {
  "kernelspec": {
   "display_name": "Python 3",
   "language": "python",
   "name": "python3"
  },
  "language_info": {
   "codemirror_mode": {
    "name": "ipython",
    "version": 3
   },
   "file_extension": ".py",
   "mimetype": "text/x-python",
   "name": "python",
   "nbconvert_exporter": "python",
   "pygments_lexer": "ipython3",
   "version": "3.6.5"
  }
 },
 "nbformat": 4,
 "nbformat_minor": 2
}
