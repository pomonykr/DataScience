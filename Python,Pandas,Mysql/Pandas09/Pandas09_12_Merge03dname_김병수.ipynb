{
 "cells": [
  {
   "cell_type": "code",
   "execution_count": 44,
   "metadata": {},
   "outputs": [],
   "source": [
    "import pandas as pd"
   ]
  },
  {
   "cell_type": "code",
   "execution_count": 60,
   "metadata": {},
   "outputs": [],
   "source": [
    "deptDB = pd.read_csv('C:/_WsHongik20210507/data/deptDB.csv' ,names = ['deptno','dname','loc'],header=None)"
   ]
  },
  {
   "cell_type": "code",
   "execution_count": 46,
   "metadata": {},
   "outputs": [],
   "source": [
    "sawonDB = pd.read_csv('./data/sawonDB.csv',names = ['sabun','saname','deptno','sajob','sapay','sahire','sasex','samgr'],header=None)"
   ]
  },
  {
   "cell_type": "code",
   "execution_count": 47,
   "metadata": {},
   "outputs": [],
   "source": [
    "gogek = pd.read_csv(\"./data/gogekDB.csv\",names = ['gobun','goname','gotel','gojumin','godam'],header=None)"
   ]
  },
  {
   "cell_type": "code",
   "execution_count": 48,
   "metadata": {},
   "outputs": [],
   "source": [
    "deptDB['dname'] =deptDB['dname'].str.strip(\"' \")"
   ]
  },
  {
   "cell_type": "code",
   "execution_count": 49,
   "metadata": {},
   "outputs": [],
   "source": [
    "deptDB['loc'] =deptDB['loc'].str.strip(\"' \")"
   ]
  },
  {
   "cell_type": "code",
   "execution_count": 50,
   "metadata": {},
   "outputs": [],
   "source": [
    "sawonDB['saname'] =sawonDB['saname'].str.strip(\"' \")"
   ]
  },
  {
   "cell_type": "code",
   "execution_count": 26,
   "metadata": {
    "scrolled": true
   },
   "outputs": [
    {
     "data": {
      "text/plain": [
       "Index(['deptno', 'dname', 'loc'], dtype='object')"
      ]
     },
     "execution_count": 26,
     "metadata": {},
     "output_type": "execute_result"
    }
   ],
   "source": [
    "deptDB.columns"
   ]
  },
  {
   "cell_type": "code",
   "execution_count": 57,
   "metadata": {},
   "outputs": [
    {
     "data": {
      "text/html": [
       "<div>\n",
       "<style scoped>\n",
       "    .dataframe tbody tr th:only-of-type {\n",
       "        vertical-align: middle;\n",
       "    }\n",
       "\n",
       "    .dataframe tbody tr th {\n",
       "        vertical-align: top;\n",
       "    }\n",
       "\n",
       "    .dataframe thead th {\n",
       "        text-align: right;\n",
       "    }\n",
       "</style>\n",
       "<table border=\"1\" class=\"dataframe\">\n",
       "  <thead>\n",
       "    <tr style=\"text-align: right;\">\n",
       "      <th></th>\n",
       "      <th>deptno</th>\n",
       "      <th>dname</th>\n",
       "      <th>loc</th>\n",
       "    </tr>\n",
       "  </thead>\n",
       "  <tbody>\n",
       "    <tr>\n",
       "      <th>0</th>\n",
       "      <td>10</td>\n",
       "      <td>총무부</td>\n",
       "      <td>서울</td>\n",
       "    </tr>\n",
       "    <tr>\n",
       "      <th>1</th>\n",
       "      <td>20</td>\n",
       "      <td>영업부</td>\n",
       "      <td>대전</td>\n",
       "    </tr>\n",
       "    <tr>\n",
       "      <th>2</th>\n",
       "      <td>30</td>\n",
       "      <td>전산부</td>\n",
       "      <td>부산</td>\n",
       "    </tr>\n",
       "    <tr>\n",
       "      <th>3</th>\n",
       "      <td>40</td>\n",
       "      <td>관리부</td>\n",
       "      <td>광주</td>\n",
       "    </tr>\n",
       "  </tbody>\n",
       "</table>\n",
       "</div>"
      ],
      "text/plain": [
       "   deptno dname loc\n",
       "0      10   총무부  서울\n",
       "1      20   영업부  대전\n",
       "2      30   전산부  부산\n",
       "3      40   관리부  광주"
      ]
     },
     "execution_count": 57,
     "metadata": {},
     "output_type": "execute_result"
    }
   ],
   "source": [
    "deptDB"
   ]
  },
  {
   "cell_type": "code",
   "execution_count": 66,
   "metadata": {},
   "outputs": [
    {
     "data": {
      "text/html": [
       "<div>\n",
       "<style scoped>\n",
       "    .dataframe tbody tr th:only-of-type {\n",
       "        vertical-align: middle;\n",
       "    }\n",
       "\n",
       "    .dataframe tbody tr th {\n",
       "        vertical-align: top;\n",
       "    }\n",
       "\n",
       "    .dataframe thead th {\n",
       "        text-align: right;\n",
       "    }\n",
       "</style>\n",
       "<table border=\"1\" class=\"dataframe\">\n",
       "  <thead>\n",
       "    <tr style=\"text-align: right;\">\n",
       "      <th></th>\n",
       "      <th>deptno</th>\n",
       "      <th>dname</th>\n",
       "      <th>loc</th>\n",
       "      <th>sabun</th>\n",
       "      <th>saname</th>\n",
       "      <th>sajob</th>\n",
       "      <th>sapay</th>\n",
       "      <th>sahire</th>\n",
       "      <th>sasex</th>\n",
       "      <th>samgr</th>\n",
       "    </tr>\n",
       "  </thead>\n",
       "  <tbody>\n",
       "    <tr>\n",
       "      <th>0</th>\n",
       "      <td>10</td>\n",
       "      <td>'총무부'</td>\n",
       "      <td>'서울'</td>\n",
       "      <td>1.0</td>\n",
       "      <td>홍길동</td>\n",
       "      <td>'회장'</td>\n",
       "      <td>5000.0</td>\n",
       "      <td>'1980/01/01'</td>\n",
       "      <td>'남자'</td>\n",
       "      <td>null</td>\n",
       "    </tr>\n",
       "    <tr>\n",
       "      <th>1</th>\n",
       "      <td>10</td>\n",
       "      <td>'총무부'</td>\n",
       "      <td>'서울'</td>\n",
       "      <td>13.0</td>\n",
       "      <td>무궁화</td>\n",
       "      <td>'부장'</td>\n",
       "      <td>3000.0</td>\n",
       "      <td>'1996/11/01'</td>\n",
       "      <td>'여자'</td>\n",
       "      <td>1</td>\n",
       "    </tr>\n",
       "  </tbody>\n",
       "</table>\n",
       "</div>"
      ],
      "text/plain": [
       "   deptno   dname    loc  sabun saname  sajob   sapay         sahire  sasex  \\\n",
       "0      10   '총무부'   '서울'    1.0    홍길동   '회장'  5000.0   '1980/01/01'   '남자'   \n",
       "1      10   '총무부'   '서울'   13.0    무궁화   '부장'  3000.0   '1996/11/01'   '여자'   \n",
       "\n",
       "   samgr  \n",
       "0   null  \n",
       "1      1  "
      ]
     },
     "execution_count": 66,
     "metadata": {},
     "output_type": "execute_result"
    }
   ],
   "source": [
    "deptSawon = deptDB.merge(sawonDB, how='outer',on = 'deptno')\n",
    "deptSawon.head(2)"
   ]
  },
  {
   "cell_type": "code",
   "execution_count": 63,
   "metadata": {},
   "outputs": [
    {
     "data": {
      "text/html": [
       "<div>\n",
       "<style scoped>\n",
       "    .dataframe tbody tr th:only-of-type {\n",
       "        vertical-align: middle;\n",
       "    }\n",
       "\n",
       "    .dataframe tbody tr th {\n",
       "        vertical-align: top;\n",
       "    }\n",
       "\n",
       "    .dataframe thead th {\n",
       "        text-align: right;\n",
       "    }\n",
       "</style>\n",
       "<table border=\"1\" class=\"dataframe\">\n",
       "  <thead>\n",
       "    <tr style=\"text-align: right;\">\n",
       "      <th></th>\n",
       "      <th>deptno</th>\n",
       "      <th>dname</th>\n",
       "      <th>loc</th>\n",
       "      <th>sabun</th>\n",
       "      <th>saname</th>\n",
       "      <th>sajob</th>\n",
       "      <th>sapay</th>\n",
       "      <th>sahire</th>\n",
       "      <th>sasex</th>\n",
       "      <th>samgr</th>\n",
       "    </tr>\n",
       "  </thead>\n",
       "  <tbody>\n",
       "    <tr>\n",
       "      <th>0</th>\n",
       "      <td>10</td>\n",
       "      <td>'총무부'</td>\n",
       "      <td>'서울'</td>\n",
       "      <td>1</td>\n",
       "      <td>홍길동</td>\n",
       "      <td>'회장'</td>\n",
       "      <td>5000</td>\n",
       "      <td>'1980/01/01'</td>\n",
       "      <td>'남자'</td>\n",
       "      <td>null</td>\n",
       "    </tr>\n",
       "    <tr>\n",
       "      <th>1</th>\n",
       "      <td>10</td>\n",
       "      <td>'총무부'</td>\n",
       "      <td>'서울'</td>\n",
       "      <td>13</td>\n",
       "      <td>무궁화</td>\n",
       "      <td>'부장'</td>\n",
       "      <td>3000</td>\n",
       "      <td>'1996/11/01'</td>\n",
       "      <td>'여자'</td>\n",
       "      <td>1</td>\n",
       "    </tr>\n",
       "  </tbody>\n",
       "</table>\n",
       "</div>"
      ],
      "text/plain": [
       "   deptno   dname    loc  sabun saname  sajob  sapay         sahire  sasex  \\\n",
       "0      10   '총무부'   '서울'      1    홍길동   '회장'   5000   '1980/01/01'   '남자'   \n",
       "1      10   '총무부'   '서울'     13    무궁화   '부장'   3000   '1996/11/01'   '여자'   \n",
       "\n",
       "   samgr  \n",
       "0   null  \n",
       "1      1  "
      ]
     },
     "execution_count": 63,
     "metadata": {},
     "output_type": "execute_result"
    }
   ],
   "source": [
    "deptSawon = deptDB.merge(sawonDB, how='inner',on = 'deptno')\n",
    "deptSawon.head(2)"
   ]
  },
  {
   "cell_type": "code",
   "execution_count": 62,
   "metadata": {
    "scrolled": true
   },
   "outputs": [
    {
     "data": {
      "text/html": [
       "<div>\n",
       "<style scoped>\n",
       "    .dataframe tbody tr th:only-of-type {\n",
       "        vertical-align: middle;\n",
       "    }\n",
       "\n",
       "    .dataframe tbody tr th {\n",
       "        vertical-align: top;\n",
       "    }\n",
       "\n",
       "    .dataframe thead th {\n",
       "        text-align: right;\n",
       "    }\n",
       "</style>\n",
       "<table border=\"1\" class=\"dataframe\">\n",
       "  <thead>\n",
       "    <tr style=\"text-align: right;\">\n",
       "      <th></th>\n",
       "      <th>deptno</th>\n",
       "      <th>dname</th>\n",
       "      <th>loc</th>\n",
       "      <th>sabun</th>\n",
       "      <th>saname</th>\n",
       "      <th>sajob</th>\n",
       "      <th>sapay</th>\n",
       "      <th>sahire</th>\n",
       "      <th>sasex</th>\n",
       "      <th>samgr</th>\n",
       "    </tr>\n",
       "  </thead>\n",
       "  <tbody>\n",
       "    <tr>\n",
       "      <th>0</th>\n",
       "      <td>10</td>\n",
       "      <td>'총무부'</td>\n",
       "      <td>'서울'</td>\n",
       "      <td>1</td>\n",
       "      <td>홍길동</td>\n",
       "      <td>'회장'</td>\n",
       "      <td>5000</td>\n",
       "      <td>'1980/01/01'</td>\n",
       "      <td>'남자'</td>\n",
       "      <td>null</td>\n",
       "    </tr>\n",
       "    <tr>\n",
       "      <th>1</th>\n",
       "      <td>10</td>\n",
       "      <td>'총무부'</td>\n",
       "      <td>'서울'</td>\n",
       "      <td>13</td>\n",
       "      <td>무궁화</td>\n",
       "      <td>'부장'</td>\n",
       "      <td>3000</td>\n",
       "      <td>'1996/11/01'</td>\n",
       "      <td>'여자'</td>\n",
       "      <td>1</td>\n",
       "    </tr>\n",
       "  </tbody>\n",
       "</table>\n",
       "</div>"
      ],
      "text/plain": [
       "   deptno   dname    loc  sabun saname  sajob  sapay         sahire  sasex  \\\n",
       "0      10   '총무부'   '서울'      1    홍길동   '회장'   5000   '1980/01/01'   '남자'   \n",
       "1      10   '총무부'   '서울'     13    무궁화   '부장'   3000   '1996/11/01'   '여자'   \n",
       "\n",
       "   samgr  \n",
       "0   null  \n",
       "1      1  "
      ]
     },
     "execution_count": 62,
     "metadata": {},
     "output_type": "execute_result"
    }
   ],
   "source": [
    "deptSawon = deptDB.merge(sawonDB, how='right',on = 'deptno')\n",
    "deptSawon.head(2)"
   ]
  },
  {
   "cell_type": "code",
   "execution_count": 59,
   "metadata": {},
   "outputs": [
    {
     "name": "stdout",
     "output_type": "stream",
     "text": [
      "1959.7142857142858\n"
     ]
    }
   ],
   "source": [
    "#문제 7] sawonDB 데이터에서 전산부 직원의 평균연봉 출력\n",
    "q7_com_30 = deptSawon[deptSawon['dname'] =='전산부']\n",
    "sa_pay_30 = q7_com_30['sapay'].mean()\n",
    "print(sa_pay_30)\n"
   ]
  }
 ],
 "metadata": {
  "kernelspec": {
   "display_name": "Python 3",
   "language": "python",
   "name": "python3"
  },
  "language_info": {
   "codemirror_mode": {
    "name": "ipython",
    "version": 3
   },
   "file_extension": ".py",
   "mimetype": "text/x-python",
   "name": "python",
   "nbconvert_exporter": "python",
   "pygments_lexer": "ipython3",
   "version": "3.6.5"
  }
 },
 "nbformat": 4,
 "nbformat_minor": 2
}
