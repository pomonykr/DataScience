{
 "cells": [
  {
   "cell_type": "code",
   "execution_count": 1,
   "metadata": {},
   "outputs": [],
   "source": [
    "import pandas as pd"
   ]
  },
  {
   "cell_type": "code",
   "execution_count": 2,
   "metadata": {},
   "outputs": [],
   "source": [
    "import pandas as pd\n",
    "deptDB = pd.read_csv('./data/deptDB.csv',header = None)\n",
    "sawonDB= pd.read_csv('./data/sawonDB.csv',header = None)\n",
    "gogekDB= pd.read_csv('./data/gogekDB.csv',header = None)\n",
    "\n",
    "deptDB.columns=['deptno','dname','loc']\n",
    "\n",
    "sawonDB.columns=['sabun','saname','deptno','sajob','sapay','sahire','sasex','samgr']\n",
    "\n",
    "gogekDB.columns=['gobun','goname','gotel','gojumin','godam']\n",
    "\n",
    "deptDB['dname'] = deptDB['dname'].str.strip(\"' \")\n",
    "deptDB['loc'] = deptDB['loc'].str.strip(\"' \")\n",
    "sawonDB['saname'] = sawonDB['saname'].str.strip(\"' \")\n",
    "sawonDB['sajob'] = sawonDB['sajob'].str.strip(\"' \")\n",
    "sawonDB['sahire'] = sawonDB['sahire'].str.strip(\"' \")\n",
    "sawonDB['sasex'] = sawonDB['sasex'].str.strip(\"' \")"
   ]
  },
  {
   "cell_type": "code",
   "execution_count": 3,
   "metadata": {},
   "outputs": [],
   "source": [
    "deptDB['dname'] = deptDB['dname'].str.strip(\"' \")\n",
    "deptDB['loc'] = deptDB['loc'].str.strip(\"' \")\n",
    "sawonDB['saname'] = sawonDB['saname'].str.strip(\"' \")\n",
    "sawonDB['sajob'] = sawonDB['sajob'].str.strip(\"' \")\n",
    "sawonDB['sahire'] = sawonDB['sahire'].str.strip(\"' \")\n",
    "sawonDB['sasex'] = sawonDB['sasex'].str.strip(\"' \")"
   ]
  },
  {
   "cell_type": "code",
   "execution_count": 4,
   "metadata": {},
   "outputs": [
    {
     "name": "stdout",
     "output_type": "stream",
     "text": [
      "사원의 이름을 입력하세요 : 홍길동\n",
      "0    5000\n",
      "Name: sapay, dtype: int64\n"
     ]
    }
   ],
   "source": [
    "#문제 10] sawonDB.csv 를 로드하고 이름을 입력받은후 이름을 입력하면 해당 사원의 월급이 출력되게 하시오\n",
    "a = input(\"사원의 이름을 입력하세요 : \")\n",
    "b = sawonDB[sawonDB['saname'].str.contains(a)]\n",
    "print(b['sapay'])"
   ]
  },
  {
   "cell_type": "code",
   "execution_count": 6,
   "metadata": {},
   "outputs": [
    {
     "name": "stdout",
     "output_type": "stream",
     "text": [
      "사원의 이름을 입력하세요 : 홍길동\n",
      "상위소득자입니다\n"
     ]
    }
   ],
   "source": [
    "#문제 11] 이름을 입력받은후 해당사원의 월급이 3000 이상이면 상위소득자 입니다.\n",
    "#그렇지 않고 2000 이상이고 3000보다 작으면 중간소득자 입니다.\n",
    "#위에 조건에 다 해당되지 않으면 월급 조정 대상자 입니다. 라고 출력되게 하시오.\n",
    "\n",
    "a = input(\"사원의 이름을 입력하세요 : \")\n",
    "b = sawonDB[sawonDB['saname'].str.contains(a)].mean()\n",
    "c = b['sapay']\n",
    "if c >= 3000:\n",
    "    print(\"상위소득자입니다\")\n",
    "elif c >= 2000:\n",
    "    print(\"중간소득자입니다\")\n",
    "else:\n",
    "    print(\"월급 조정 대상자 입니다\")"
   ]
  }
 ],
 "metadata": {
  "kernelspec": {
   "display_name": "Python 3",
   "language": "python",
   "name": "python3"
  },
  "language_info": {
   "codemirror_mode": {
    "name": "ipython",
    "version": 3
   },
   "file_extension": ".py",
   "mimetype": "text/x-python",
   "name": "python",
   "nbconvert_exporter": "python",
   "pygments_lexer": "ipython3",
   "version": "3.6.5"
  }
 },
 "nbformat": 4,
 "nbformat_minor": 2
}
