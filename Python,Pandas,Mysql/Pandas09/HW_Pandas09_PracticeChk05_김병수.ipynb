{
 "cells": [
  {
   "cell_type": "code",
   "execution_count": 1,
   "metadata": {},
   "outputs": [],
   "source": [
    "import pandas as pd"
   ]
  },
  {
   "cell_type": "code",
   "execution_count": 2,
   "metadata": {},
   "outputs": [],
   "source": [
    "dept = pd.read_csv('C:/_WsHongik20210507/data/deptDB.csv' ,names = ['deptno','dname','loc'],header=None)"
   ]
  },
  {
   "cell_type": "code",
   "execution_count": 4,
   "metadata": {},
   "outputs": [],
   "source": [
    "sawon = pd.read_csv('./data/sawonDB.csv',names = ['sabun','saname','deptno','sajob','sapay','sahire','sasex','samgr'],header=None)"
   ]
  },
  {
   "cell_type": "code",
   "execution_count": 5,
   "metadata": {},
   "outputs": [],
   "source": [
    "gogek = pd.read_csv(\"./data/gogekDB.csv\",names = ['gobun','goname','gotel','gojumin','godam'],header=None)"
   ]
  },
  {
   "cell_type": "code",
   "execution_count": 7,
   "metadata": {},
   "outputs": [],
   "source": [
    "dept =dept.replace('\\'','',regex=True)"
   ]
  },
  {
   "cell_type": "code",
   "execution_count": 8,
   "metadata": {},
   "outputs": [],
   "source": [
    "sawon = sawon.replace('\\'','',regex=True)"
   ]
  },
  {
   "cell_type": "code",
   "execution_count": 9,
   "metadata": {},
   "outputs": [
    {
     "name": "stdout",
     "output_type": "stream",
     "text": [
      "    sabun saname  deptno sajob  sapay       sahire sasex samgr\n",
      "1       2    한국남      20    부장   3000   1988/11/01    남자     1\n",
      "6      14    채시라      20    사원   3400   1993/10/01    여자     3\n",
      "10     20    깨똥이      10    과장   4500   1990/05/01    남자    13\n",
      "11      6    공부만      30    과장   4003   1995/05/01    남자    17\n",
      "12      8    채송화      30    대리   1703   1992/06/01    여자    17\n",
      "13      4    이미라      30    대리   2503   1983/04/01    여자    17\n",
      "14     10    공부해      30    사원   1303   1988/11/01    남자     4\n",
      "15     12    뷰명한      10    대리   1800   1990/10/01    남자    20\n",
      "18     16    김유신      30    사원    400   1981/04/01    남자     4\n",
      "19     18    강감찬      30    사원   1003   1986/07/01    남자     4\n"
     ]
    }
   ],
   "source": [
    "#문제 3] sawonDB 데이터에서 사원번호가 짝수인 사람만 출력하시오.\n",
    "a = sawon[sawon['sabun']%2 == 0]\n",
    "print(a)"
   ]
  }
 ],
 "metadata": {
  "kernelspec": {
   "display_name": "Python 3",
   "language": "python",
   "name": "python3"
  },
  "language_info": {
   "codemirror_mode": {
    "name": "ipython",
    "version": 3
   },
   "file_extension": ".py",
   "mimetype": "text/x-python",
   "name": "python",
   "nbconvert_exporter": "python",
   "pygments_lexer": "ipython3",
   "version": "3.6.5"
  }
 },
 "nbformat": 4,
 "nbformat_minor": 2
}
