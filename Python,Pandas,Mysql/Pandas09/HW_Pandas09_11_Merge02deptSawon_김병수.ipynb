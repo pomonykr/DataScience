{
 "cells": [
  {
   "cell_type": "code",
   "execution_count": 1,
   "metadata": {},
   "outputs": [],
   "source": [
    "import pandas as pd"
   ]
  },
  {
   "cell_type": "code",
   "execution_count": 2,
   "metadata": {},
   "outputs": [],
   "source": [
    "dept = pd.read_csv('C:/_WsHongik20210507/data/deptDB.csv' ,names = ['deptno','dname','loc'],header=None)"
   ]
  },
  {
   "cell_type": "code",
   "execution_count": 3,
   "metadata": {},
   "outputs": [],
   "source": [
    "sawonDB = pd.read_csv('./data/sawonDB.csv',names = ['sabun','saname','deptno','sajob','sapay','sahire','sasex','samgr'],header=None)"
   ]
  },
  {
   "cell_type": "code",
   "execution_count": 4,
   "metadata": {},
   "outputs": [],
   "source": [
    "gogek = pd.read_csv(\"./data/gogekDB.csv\",names = ['gobun','goname','gotel','gojumin','godam'],header=None)"
   ]
  },
  {
   "cell_type": "code",
   "execution_count": 5,
   "metadata": {},
   "outputs": [
    {
     "data": {
      "text/html": [
       "<div>\n",
       "<style scoped>\n",
       "    .dataframe tbody tr th:only-of-type {\n",
       "        vertical-align: middle;\n",
       "    }\n",
       "\n",
       "    .dataframe tbody tr th {\n",
       "        vertical-align: top;\n",
       "    }\n",
       "\n",
       "    .dataframe thead th {\n",
       "        text-align: right;\n",
       "    }\n",
       "</style>\n",
       "<table border=\"1\" class=\"dataframe\">\n",
       "  <thead>\n",
       "    <tr style=\"text-align: right;\">\n",
       "      <th></th>\n",
       "      <th>deptno</th>\n",
       "      <th>dname</th>\n",
       "      <th>loc</th>\n",
       "    </tr>\n",
       "  </thead>\n",
       "  <tbody>\n",
       "    <tr>\n",
       "      <th>0</th>\n",
       "      <td>10</td>\n",
       "      <td>'총무부'</td>\n",
       "      <td>'서울'</td>\n",
       "    </tr>\n",
       "    <tr>\n",
       "      <th>1</th>\n",
       "      <td>20</td>\n",
       "      <td>'영업부'</td>\n",
       "      <td>'대전'</td>\n",
       "    </tr>\n",
       "    <tr>\n",
       "      <th>2</th>\n",
       "      <td>30</td>\n",
       "      <td>'전산부'</td>\n",
       "      <td>'부산'</td>\n",
       "    </tr>\n",
       "    <tr>\n",
       "      <th>3</th>\n",
       "      <td>40</td>\n",
       "      <td>'관리부'</td>\n",
       "      <td>'광주'</td>\n",
       "    </tr>\n",
       "  </tbody>\n",
       "</table>\n",
       "</div>"
      ],
      "text/plain": [
       "   deptno   dname    loc\n",
       "0      10   '총무부'   '서울'\n",
       "1      20   '영업부'   '대전'\n",
       "2      30   '전산부'   '부산'\n",
       "3      40   '관리부'   '광주'"
      ]
     },
     "execution_count": 5,
     "metadata": {},
     "output_type": "execute_result"
    }
   ],
   "source": [
    "dept"
   ]
  },
  {
   "cell_type": "code",
   "execution_count": 6,
   "metadata": {},
   "outputs": [
    {
     "data": {
      "text/html": [
       "<div>\n",
       "<style scoped>\n",
       "    .dataframe tbody tr th:only-of-type {\n",
       "        vertical-align: middle;\n",
       "    }\n",
       "\n",
       "    .dataframe tbody tr th {\n",
       "        vertical-align: top;\n",
       "    }\n",
       "\n",
       "    .dataframe thead th {\n",
       "        text-align: right;\n",
       "    }\n",
       "</style>\n",
       "<table border=\"1\" class=\"dataframe\">\n",
       "  <thead>\n",
       "    <tr style=\"text-align: right;\">\n",
       "      <th></th>\n",
       "      <th>sabun</th>\n",
       "      <th>saname</th>\n",
       "      <th>deptno</th>\n",
       "      <th>sajob</th>\n",
       "      <th>sapay</th>\n",
       "      <th>sahire</th>\n",
       "      <th>sasex</th>\n",
       "      <th>samgr</th>\n",
       "    </tr>\n",
       "  </thead>\n",
       "  <tbody>\n",
       "    <tr>\n",
       "      <th>0</th>\n",
       "      <td>1</td>\n",
       "      <td>'홍길동'</td>\n",
       "      <td>10</td>\n",
       "      <td>'회장'</td>\n",
       "      <td>5000</td>\n",
       "      <td>'1980/01/01'</td>\n",
       "      <td>'남자'</td>\n",
       "      <td>null</td>\n",
       "    </tr>\n",
       "    <tr>\n",
       "      <th>1</th>\n",
       "      <td>2</td>\n",
       "      <td>'한국남'</td>\n",
       "      <td>20</td>\n",
       "      <td>'부장'</td>\n",
       "      <td>3000</td>\n",
       "      <td>'1988/11/01'</td>\n",
       "      <td>'남자'</td>\n",
       "      <td>1</td>\n",
       "    </tr>\n",
       "  </tbody>\n",
       "</table>\n",
       "</div>"
      ],
      "text/plain": [
       "   sabun  saname  deptno  sajob  sapay         sahire  sasex  samgr\n",
       "0      1   '홍길동'      10   '회장'   5000   '1980/01/01'   '남자'   null\n",
       "1      2   '한국남'      20   '부장'   3000   '1988/11/01'   '남자'      1"
      ]
     },
     "execution_count": 6,
     "metadata": {},
     "output_type": "execute_result"
    }
   ],
   "source": [
    "sawonDB.head(2)"
   ]
  },
  {
   "cell_type": "code",
   "execution_count": 7,
   "metadata": {},
   "outputs": [
    {
     "data": {
      "text/html": [
       "<div>\n",
       "<style scoped>\n",
       "    .dataframe tbody tr th:only-of-type {\n",
       "        vertical-align: middle;\n",
       "    }\n",
       "\n",
       "    .dataframe tbody tr th {\n",
       "        vertical-align: top;\n",
       "    }\n",
       "\n",
       "    .dataframe thead th {\n",
       "        text-align: right;\n",
       "    }\n",
       "</style>\n",
       "<table border=\"1\" class=\"dataframe\">\n",
       "  <thead>\n",
       "    <tr style=\"text-align: right;\">\n",
       "      <th></th>\n",
       "      <th>deptno</th>\n",
       "      <th>dname</th>\n",
       "      <th>loc</th>\n",
       "      <th>sabun</th>\n",
       "      <th>saname</th>\n",
       "      <th>sajob</th>\n",
       "      <th>sapay</th>\n",
       "      <th>sahire</th>\n",
       "      <th>sasex</th>\n",
       "      <th>samgr</th>\n",
       "    </tr>\n",
       "  </thead>\n",
       "  <tbody>\n",
       "    <tr>\n",
       "      <th>0</th>\n",
       "      <td>10</td>\n",
       "      <td>'총무부'</td>\n",
       "      <td>'서울'</td>\n",
       "      <td>1</td>\n",
       "      <td>'홍길동'</td>\n",
       "      <td>'회장'</td>\n",
       "      <td>5000</td>\n",
       "      <td>'1980/01/01'</td>\n",
       "      <td>'남자'</td>\n",
       "      <td>null</td>\n",
       "    </tr>\n",
       "    <tr>\n",
       "      <th>1</th>\n",
       "      <td>10</td>\n",
       "      <td>'총무부'</td>\n",
       "      <td>'서울'</td>\n",
       "      <td>13</td>\n",
       "      <td>'무궁화'</td>\n",
       "      <td>'부장'</td>\n",
       "      <td>3000</td>\n",
       "      <td>'1996/11/01'</td>\n",
       "      <td>'여자'</td>\n",
       "      <td>1</td>\n",
       "    </tr>\n",
       "  </tbody>\n",
       "</table>\n",
       "</div>"
      ],
      "text/plain": [
       "   deptno   dname    loc  sabun  saname  sajob  sapay         sahire  sasex  \\\n",
       "0      10   '총무부'   '서울'      1   '홍길동'   '회장'   5000   '1980/01/01'   '남자'   \n",
       "1      10   '총무부'   '서울'     13   '무궁화'   '부장'   3000   '1996/11/01'   '여자'   \n",
       "\n",
       "   samgr  \n",
       "0   null  \n",
       "1      1  "
      ]
     },
     "execution_count": 7,
     "metadata": {},
     "output_type": "execute_result"
    }
   ],
   "source": [
    "deptSawon = dept.merge(sawonDB, how='inner',on = 'deptno')\n",
    "deptSawon.head(2)"
   ]
  },
  {
   "cell_type": "code",
   "execution_count": 8,
   "metadata": {},
   "outputs": [],
   "source": [
    "sawonDB['saname'] = sawonDB['saname'].str.strip(\"' \")\n",
    "sawonDB['sajob'] = sawonDB['sajob'].str.strip(\"' \")\n",
    "sawonDB['sahire'] = sawonDB['sahire'].str.strip(\"' \")\n",
    "sawonDB['sasex'] = sawonDB['sasex'].str.strip(\"' \")"
   ]
  },
  {
   "cell_type": "code",
   "execution_count": null,
   "metadata": {},
   "outputs": [],
   "source": [
    "#문제 10] sawonDB.csv 를 로드하고 이름을 입력받은후 이름을 입력하면 해당 사원의 월급이 출력되게 하시오\n",
    "a = input(\"사원의 이름을 입력하세요 : \")\n",
    "b = sawonDB[sawonDB['saname'].str.contains(a)]"
   ]
  },
  {
   "cell_type": "code",
   "execution_count": null,
   "metadata": {},
   "outputs": [],
   "source": []
  }
 ],
 "metadata": {
  "kernelspec": {
   "display_name": "Python 3",
   "language": "python",
   "name": "python3"
  },
  "language_info": {
   "codemirror_mode": {
    "name": "ipython",
    "version": 3
   },
   "file_extension": ".py",
   "mimetype": "text/x-python",
   "name": "python",
   "nbconvert_exporter": "python",
   "pygments_lexer": "ipython3",
   "version": "3.6.5"
  }
 },
 "nbformat": 4,
 "nbformat_minor": 2
}
