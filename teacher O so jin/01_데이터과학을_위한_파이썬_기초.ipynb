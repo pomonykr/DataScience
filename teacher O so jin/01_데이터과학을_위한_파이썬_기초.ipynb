{
  "nbformat": 4,
  "nbformat_minor": 0,
  "metadata": {
    "colab": {
      "name": "01_데이터과학을 위한 파이썬 기초.ipynb",
      "provenance": [],
      "collapsed_sections": [],
      "authorship_tag": "ABX9TyOboqeINAMNfKGPvJAde7/+",
      "include_colab_link": true
    },
    "kernelspec": {
      "name": "python3",
      "display_name": "Python 3"
    },
    "language_info": {
      "name": "python"
    }
  },
  "cells": [
    {
      "cell_type": "markdown",
      "metadata": {
        "id": "view-in-github",
        "colab_type": "text"
      },
      "source": [
        "<a href=\"https://colab.research.google.com/github/pomonykr/DataScience/blob/main/01_%EB%8D%B0%EC%9D%B4%ED%84%B0%EA%B3%BC%ED%95%99%EC%9D%84_%EC%9C%84%ED%95%9C_%ED%8C%8C%EC%9D%B4%EC%8D%AC_%EA%B8%B0%EC%B4%88.ipynb\" target=\"_parent\"><img src=\"https://colab.research.google.com/assets/colab-badge.svg\" alt=\"Open In Colab\"/></a>"
      ]
    },
    {
      "cell_type": "code",
      "metadata": {
        "colab": {
          "base_uri": "https://localhost:8080/",
          "height": 35
        },
        "id": "MX17uP9KvnO2",
        "outputId": "fb604e87-521d-4bff-97a4-b0ebed52c82a"
      },
      "source": [
        "st = \" Hello, world! \\t\\t\\n \" #모든 줄 바꿈과 탭 (\\n \\r \\t)\n",
        "st"
      ],
      "execution_count": null,
      "outputs": [
        {
          "output_type": "execute_result",
          "data": {
            "application/vnd.google.colaboratory.intrinsic+json": {
              "type": "string"
            },
            "text/plain": [
              "'Hello, world! \\t\\t\\n'"
            ]
          },
          "metadata": {
            "tags": []
          },
          "execution_count": 2
        }
      ]
    },
    {
      "cell_type": "code",
      "metadata": {
        "colab": {
          "base_uri": "https://localhost:8080/",
          "height": 35
        },
        "id": "tBxAZUARwE8Y",
        "outputId": "52533f4d-002c-465f-a3cc-9a815e21cebe"
      },
      "source": [
        "st.strip() #모든 공백 제거"
      ],
      "execution_count": null,
      "outputs": [
        {
          "output_type": "execute_result",
          "data": {
            "application/vnd.google.colaboratory.intrinsic+json": {
              "type": "string"
            },
            "text/plain": [
              "'Hello, world!'"
            ]
          },
          "metadata": {
            "tags": []
          },
          "execution_count": 4
        }
      ]
    },
    {
      "cell_type": "code",
      "metadata": {
        "colab": {
          "base_uri": "https://localhost:8080/",
          "height": 35
        },
        "id": "TrwSuwTlwv6S",
        "outputId": "7d55b6b0-4aca-499e-f711-fb19908e30d3"
      },
      "source": [
        "st.lstrip() #왼쪽 공백 제거"
      ],
      "execution_count": null,
      "outputs": [
        {
          "output_type": "execute_result",
          "data": {
            "application/vnd.google.colaboratory.intrinsic+json": {
              "type": "string"
            },
            "text/plain": [
              "'Hello, world! \\t\\t\\n'"
            ]
          },
          "metadata": {
            "tags": []
          },
          "execution_count": 5
        }
      ]
    },
    {
      "cell_type": "code",
      "metadata": {
        "colab": {
          "base_uri": "https://localhost:8080/",
          "height": 35
        },
        "id": "7mNUUQECw3X8",
        "outputId": "cfe9719e-6e83-404c-c155-faa91bc2f8dd"
      },
      "source": [
        "st.rstrip() #오른쪽 공백 제거"
      ],
      "execution_count": null,
      "outputs": [
        {
          "output_type": "execute_result",
          "data": {
            "application/vnd.google.colaboratory.intrinsic+json": {
              "type": "string"
            },
            "text/plain": [
              "'Hello, world!'"
            ]
          },
          "metadata": {
            "tags": []
          },
          "execution_count": 8
        }
      ]
    },
    {
      "cell_type": "code",
      "metadata": {
        "id": "GyL6-U57xMkd"
      },
      "source": [
        "#split(delim=\"\") #문자열 자르기 함수"
      ],
      "execution_count": null,
      "outputs": []
    },
    {
      "cell_type": "code",
      "metadata": {
        "colab": {
          "base_uri": "https://localhost:8080/"
        },
        "id": "QwPAEDiCxZiV",
        "outputId": "ba308c10-51c8-4a95-e58b-1b272cf9030c"
      },
      "source": [
        "\"Hello, world !\".split() #default 는 공백"
      ],
      "execution_count": null,
      "outputs": [
        {
          "output_type": "execute_result",
          "data": {
            "text/plain": [
              "['Hello,', 'world', '!']"
            ]
          },
          "metadata": {
            "tags": []
          },
          "execution_count": 10
        }
      ]
    },
    {
      "cell_type": "code",
      "metadata": {
        "colab": {
          "base_uri": "https://localhost:8080/"
        },
        "id": "8ItU-FVPxyA4",
        "outputId": "e1b77821-eeb8-4459-a61a-102657ff713d"
      },
      "source": [
        "\"hello, world!\".split(\",\") #구분자 -> , (콤마)"
      ],
      "execution_count": null,
      "outputs": [
        {
          "output_type": "execute_result",
          "data": {
            "text/plain": [
              "['hello', ' world!']"
            ]
          },
          "metadata": {
            "tags": []
          },
          "execution_count": 11
        }
      ]
    },
    {
      "cell_type": "code",
      "metadata": {
        "colab": {
          "base_uri": "https://localhost:8080/"
        },
        "id": "JGkt2LJkyIeZ",
        "outputId": "3051de73-8360-45a0-d536-705dd5474d5e"
      },
      "source": [
        "\"www.networksciencelab.com\".split(\".\")"
      ],
      "execution_count": null,
      "outputs": [
        {
          "output_type": "execute_result",
          "data": {
            "text/plain": [
              "['www', 'networksciencelab', 'com']"
            ]
          },
          "metadata": {
            "tags": []
          },
          "execution_count": 12
        }
      ]
    },
    {
      "cell_type": "markdown",
      "metadata": {
        "id": "EKgH_QmCywq5"
      },
      "source": [
        "join(is) 문자열을 연결시키는 함수\n",
        "\n"
      ]
    },
    {
      "cell_type": "code",
      "metadata": {
        "colab": {
          "base_uri": "https://localhost:8080/",
          "height": 35
        },
        "id": "-Fnbq25ty1d7",
        "outputId": "83e4f260-b9b1-4795-fea4-4edbc113f8bc"
      },
      "source": [
        "\" - \".join([\"alpha\",\"bravo\",\"charlie\",\"delta\"]) #문자열 리스트 is 하나의 문자열로 붙임 -> 문자열 조각을 재조합"
      ],
      "execution_count": null,
      "outputs": [
        {
          "output_type": "execute_result",
          "data": {
            "application/vnd.google.colaboratory.intrinsic+json": {
              "type": "string"
            },
            "text/plain": [
              "'alpha - bravo - charlie - delta'"
            ]
          },
          "metadata": {
            "tags": []
          },
          "execution_count": 16
        }
      ]
    },
    {
      "cell_type": "code",
      "metadata": {
        "colab": {
          "base_uri": "https://localhost:8080/",
          "height": 35
        },
        "id": "Y80zLl5pzSZ-",
        "outputId": "40b7a3d3-363b-4e98-9ed4-ee2b815be009"
      },
      "source": [
        "\"-\".join(\"1.617.305.1985\".split(\".\")) #스플릿한 문자열을 join()특정조건으로 재조합"
      ],
      "execution_count": null,
      "outputs": [
        {
          "output_type": "execute_result",
          "data": {
            "application/vnd.google.colaboratory.intrinsic+json": {
              "type": "string"
            },
            "text/plain": [
              "'1-617-305-1985'"
            ]
          },
          "metadata": {
            "tags": []
          },
          "execution_count": 19
        }
      ]
    },
    {
      "cell_type": "code",
      "metadata": {
        "colab": {
          "base_uri": "https://localhost:8080/",
          "height": 35
        },
        "id": "jh3tjcUqzvUW",
        "outputId": "f6507878-5fb8-49bf-c2df-61e083ecae7d"
      },
      "source": [
        "\n",
        "# 1) . 구분자로 자른다\n",
        "Is = \"1.617.305.1985\".split(\".\")\n",
        "# 2) is를 - 구분자로 붙인다\n",
        "\"-\".join(Is)"
      ],
      "execution_count": null,
      "outputs": [
        {
          "output_type": "execute_result",
          "data": {
            "application/vnd.google.colaboratory.intrinsic+json": {
              "type": "string"
            },
            "text/plain": [
              "'1-617-305-1985'"
            ]
          },
          "metadata": {
            "tags": []
          },
          "execution_count": 1
        }
      ]
    },
    {
      "cell_type": "code",
      "metadata": {
        "id": "sZiPE5ju0eAh"
      },
      "source": [
        "\" \".join(\"This string\\n\\r has many\\t\\tspaces\".split())"
      ],
      "execution_count": null,
      "outputs": []
    },
    {
      "cell_type": "code",
      "metadata": {
        "colab": {
          "base_uri": "https://localhost:8080/",
          "height": 35
        },
        "id": "ZCNnJBg50qmA",
        "outputId": "6cf346e2-2cce-4b55-99b7-628625926ef8"
      },
      "source": [
        "# 1) \\n\\r 공백 데이터 기준으로 자르기\n",
        "Is = \"This string\\n\\r has has many\\t\\tspaces\".split()\n",
        "# 2) 공백 한칸으로 재조합\n",
        "\" \".join(Is)"
      ],
      "execution_count": null,
      "outputs": [
        {
          "output_type": "execute_result",
          "data": {
            "application/vnd.google.colaboratory.intrinsic+json": {
              "type": "string"
            },
            "text/plain": [
              "'This string has has many spaces'"
            ]
          },
          "metadata": {
            "tags": []
          },
          "execution_count": 24
        }
      ]
    },
    {
      "cell_type": "code",
      "metadata": {
        "colab": {
          "base_uri": "https://localhost:8080/",
          "height": 35
        },
        "id": "xcskfQm804-m",
        "outputId": "cbafd69a-6c67-4986-f4bd-df1e1b80ec17"
      },
      "source": [
        "\" \".join(\"This string\\n\\r has many\\t\\tspaces\".split())  #24열 과 다른방법 같은결과    ****************"
      ],
      "execution_count": null,
      "outputs": [
        {
          "output_type": "execute_result",
          "data": {
            "application/vnd.google.colaboratory.intrinsic+json": {
              "type": "string"
            },
            "text/plain": [
              "'This string has many spaces'"
            ]
          },
          "metadata": {
            "tags": []
          },
          "execution_count": 25
        }
      ]
    },
    {
      "cell_type": "markdown",
      "metadata": {
        "id": "EjmYKK231mAW"
      },
      "source": [
        "find(needle) 해당 문자열에 부분 문자열 needle 처음 등장하는 인덱스 반환(위치) 없으면 -1 반환하는 함수 (대소문자 구분)"
      ]
    },
    {
      "cell_type": "code",
      "metadata": {
        "colab": {
          "base_uri": "https://localhost:8080/"
        },
        "id": "hZt57hmJ15RN",
        "outputId": "9b5c8766-aaee-483a-d53b-cfbcd4b4b6b7"
      },
      "source": [
        "\"www.networksciencelab.com\".find(\".com\")   #대소문자를 구분해주어야함"
      ],
      "execution_count": null,
      "outputs": [
        {
          "output_type": "execute_result",
          "data": {
            "text/plain": [
              "21"
            ]
          },
          "metadata": {
            "tags": []
          },
          "execution_count": 26
        }
      ]
    },
    {
      "cell_type": "markdown",
      "metadata": {
        "id": "f3_irIBg2ozg"
      },
      "source": [
        "count(needle) 해당 문자열에서 등장하는 횟수를 반환하는 함수 (대소문자 구분)"
      ]
    },
    {
      "cell_type": "code",
      "metadata": {
        "colab": {
          "base_uri": "https://localhost:8080/"
        },
        "id": "yqwlwxck2bto",
        "outputId": "0b1e77dc-8b35-4d8a-d7e6-4dbaacd3c59f"
      },
      "source": [
        "\"www.networksciencelab.com\".count(\"w\")"
      ],
      "execution_count": null,
      "outputs": [
        {
          "output_type": "execute_result",
          "data": {
            "text/plain": [
              "4"
            ]
          },
          "metadata": {
            "tags": []
          },
          "execution_count": 30
        }
      ]
    },
    {
      "cell_type": "code",
      "metadata": {
        "colab": {
          "base_uri": "https://localhost:8080/"
        },
        "id": "EB4sRYBp3Lz8",
        "outputId": "ce983fa4-187a-4103-ea8c-88ba89be40f0"
      },
      "source": [
        "\"www.networksciencelab.com\".count(\"C\")     #대소문자를 구분해 주어야하며 find와 달리 값이 없을땐 0을 반환해줌 (find=(-1))"
      ],
      "execution_count": null,
      "outputs": [
        {
          "output_type": "execute_result",
          "data": {
            "text/plain": [
              "0"
            ]
          },
          "metadata": {
            "tags": []
          },
          "execution_count": 31
        }
      ]
    },
    {
      "cell_type": "markdown",
      "metadata": {
        "id": "bYEd-CsV3XPe"
      },
      "source": [
        "프리디케이트 함수 -> 문자열 s가 특정 클래스에 속하는지 True , False로 반환"
      ]
    },
    {
      "cell_type": "code",
      "metadata": {
        "colab": {
          "base_uri": "https://localhost:8080/"
        },
        "id": "mP0mqWix3eNR",
        "outputId": "305916f8-b054-40ed-cf75-f402831825c6"
      },
      "source": [
        "\"www.networksciencelab.com\".islower()   #모든 알파벳 문자가 소문자인지 체크     #is~~~() 함수가 올땐 결과값이 True,False로 옴 "
      ],
      "execution_count": null,
      "outputs": [
        {
          "output_type": "execute_result",
          "data": {
            "text/plain": [
              "True"
            ]
          },
          "metadata": {
            "tags": []
          },
          "execution_count": 34
        }
      ]
    },
    {
      "cell_type": "code",
      "metadata": {
        "colab": {
          "base_uri": "https://localhost:8080/"
        },
        "id": "vA3r-wVB334n",
        "outputId": "9b9aa10f-0e57-4bd7-874e-c18ff7a91bb6"
      },
      "source": [
        "\"www.networksciencelab.com\".isupper()  #모든 알파벳 문자가 대문자인지 체크"
      ],
      "execution_count": null,
      "outputs": [
        {
          "output_type": "execute_result",
          "data": {
            "text/plain": [
              "False"
            ]
          },
          "metadata": {
            "tags": []
          },
          "execution_count": 35
        }
      ]
    },
    {
      "cell_type": "code",
      "metadata": {
        "colab": {
          "base_uri": "https://localhost:8080/"
        },
        "id": "MzST0imd4VfT",
        "outputId": "c394cf22-05b0-49c1-bbe9-305ee18dfd08"
      },
      "source": [
        "\"www.networksciencelab.com\".isdigit() #0~9 사이 숫자가 있는지 체크 "
      ],
      "execution_count": null,
      "outputs": [
        {
          "output_type": "execute_result",
          "data": {
            "text/plain": [
              "False"
            ]
          },
          "metadata": {
            "tags": []
          },
          "execution_count": 39
        }
      ]
    },
    {
      "cell_type": "code",
      "metadata": {
        "colab": {
          "base_uri": "https://localhost:8080/"
        },
        "id": "EdOQ8qwz4gmb",
        "outputId": "328ead0f-2eb7-4c9d-fb58-9293eb62baed"
      },
      "source": [
        "\"www.networksciencelab.com\".isalpha() #순수하게 알파벳으로 이루어졌는지 체크   #dot (.) 도 제거 해야만 True가 나옴"
      ],
      "execution_count": null,
      "outputs": [
        {
          "output_type": "execute_result",
          "data": {
            "text/plain": [
              "False"
            ]
          },
          "metadata": {
            "tags": []
          },
          "execution_count": 40
        }
      ]
    },
    {
      "cell_type": "markdown",
      "metadata": {
        "id": "n2oGeA9g5Erg"
      },
      "source": [
        "대.소문자 변환 함수 -> 모든 문자 대.소문자 변환(문자열 s의 복사본 반환)"
      ]
    },
    {
      "cell_type": "code",
      "metadata": {
        "colab": {
          "base_uri": "https://localhost:8080/",
          "height": 35
        },
        "id": "W6Ab6k045K6Y",
        "outputId": "b8cb0402-d697-4de4-c2d3-4e5accb409dd"
      },
      "source": [
        "st = \"www.networksciencelab.com\".upper()\n",
        "st"
      ],
      "execution_count": null,
      "outputs": [
        {
          "output_type": "execute_result",
          "data": {
            "application/vnd.google.colaboratory.intrinsic+json": {
              "type": "string"
            },
            "text/plain": [
              "'WWW.NETWORKSCIENCELAB.COM'"
            ]
          },
          "metadata": {
            "tags": []
          },
          "execution_count": 42
        }
      ]
    },
    {
      "cell_type": "code",
      "metadata": {
        "colab": {
          "base_uri": "https://localhost:8080/",
          "height": 35
        },
        "id": "kJ1ocS3K5rAk",
        "outputId": "c334fefd-57da-4785-e1b5-f1628e05813f"
      },
      "source": [
        "st.lower()"
      ],
      "execution_count": null,
      "outputs": [
        {
          "output_type": "execute_result",
          "data": {
            "application/vnd.google.colaboratory.intrinsic+json": {
              "type": "string"
            },
            "text/plain": [
              "'www.networksciencelab.com'"
            ]
          },
          "metadata": {
            "tags": []
          },
          "execution_count": 46
        }
      ]
    },
    {
      "cell_type": "code",
      "metadata": {
        "colab": {
          "base_uri": "https://localhost:8080/",
          "height": 35
        },
        "id": "LdDt-_lu5u6m",
        "outputId": "5dead6e9-5dd7-4309-e626-956554d81c87"
      },
      "source": [
        "st"
      ],
      "execution_count": null,
      "outputs": [
        {
          "output_type": "execute_result",
          "data": {
            "application/vnd.google.colaboratory.intrinsic+json": {
              "type": "string"
            },
            "text/plain": [
              "'www.networksciencelab.com'"
            ]
          },
          "metadata": {
            "tags": []
          },
          "execution_count": 47
        }
      ]
    },
    {
      "cell_type": "code",
      "metadata": {
        "id": "-m0g5Svu5WFz"
      },
      "source": [
        "st = st.lower()"
      ],
      "execution_count": null,
      "outputs": []
    },
    {
      "cell_type": "code",
      "metadata": {
        "colab": {
          "base_uri": "https://localhost:8080/",
          "height": 35
        },
        "id": "Ngx4llxP5nVj",
        "outputId": "38ca9e1f-3b39-4f1c-d073-0f98dae22b0c"
      },
      "source": [
        "st"
      ],
      "execution_count": null,
      "outputs": [
        {
          "output_type": "execute_result",
          "data": {
            "application/vnd.google.colaboratory.intrinsic+json": {
              "type": "string"
            },
            "text/plain": [
              "'www.networksciencelab.com'"
            ]
          },
          "metadata": {
            "tags": []
          },
          "execution_count": 45
        }
      ]
    },
    {
      "cell_type": "code",
      "metadata": {
        "id": "RQEC2bLCNtwN"
      },
      "source": [
        ""
      ],
      "execution_count": null,
      "outputs": []
    },
    {
      "cell_type": "markdown",
      "metadata": {
        "id": "Aai6mUbuNw2H"
      },
      "source": [
        "중복된 아이템이 있는 리스트 -> myList"
      ]
    },
    {
      "cell_type": "code",
      "metadata": {
        "colab": {
          "base_uri": "https://localhost:8080/"
        },
        "id": "qBHgZsXHN0R5",
        "outputId": "75c1f21d-0f26-4d8e-825c-adff197206b0"
      },
      "source": [
        "myList = \"This string\\n\\r has many\\t\\tspaces\\tThis string\\n\\r has many\\t\\tspaces\".split()\n",
        "myList\n"
      ],
      "execution_count": null,
      "outputs": [
        {
          "output_type": "execute_result",
          "data": {
            "text/plain": [
              "['This',\n",
              " 'string',\n",
              " 'has',\n",
              " 'many',\n",
              " 'spaces',\n",
              " 'This',\n",
              " 'string',\n",
              " 'has',\n",
              " 'many',\n",
              " 'spaces']"
            ]
          },
          "metadata": {
            "tags": []
          },
          "execution_count": 48
        }
      ]
    },
    {
      "cell_type": "markdown",
      "metadata": {
        "id": "KXXjDYkdOPui"
      },
      "source": [
        "리스트 -> 셋 변환 -> 다시 리스트로 변환"
      ]
    },
    {
      "cell_type": "code",
      "metadata": {
        "colab": {
          "base_uri": "https://localhost:8080/"
        },
        "id": "kJ8hA9LTOUPW",
        "outputId": "ecda7a65-f1a7-4ad8-b130-00bb306d514c"
      },
      "source": [
        "# 1) 셋변환 (중복제거)\n",
        "set(myList)\n",
        "\n",
        "# 2) 중복 제거한 데이터를 리스트로 변환\n",
        "my = list(set(myList))\n",
        "my"
      ],
      "execution_count": null,
      "outputs": [
        {
          "output_type": "execute_result",
          "data": {
            "text/plain": [
              "['many', 'This', 'spaces', 'has', 'string']"
            ]
          },
          "metadata": {
            "tags": []
          },
          "execution_count": 51
        }
      ]
    },
    {
      "cell_type": "markdown",
      "metadata": {
        "id": "1XIoYd_DPO_v"
      },
      "source": [
        "리스트 vs 셋 회원 명단 조회하기"
      ]
    },
    {
      "cell_type": "code",
      "metadata": {
        "colab": {
          "base_uri": "https://localhost:8080/"
        },
        "id": "ER6UBaDnPR-l",
        "outputId": "0396fbea-7e2e-4419-9c98-0ec5bc8884c0"
      },
      "source": [
        "bigList = [str(i)for i in range(10000000)]\n",
        "\"abc\" in bigList #bigList 리스트에 abd 데이터 IN(포함) 되어 있는지 확인"
      ],
      "execution_count": null,
      "outputs": [
        {
          "output_type": "execute_result",
          "data": {
            "text/plain": [
              "False"
            ]
          },
          "metadata": {
            "tags": []
          },
          "execution_count": 1
        }
      ]
    },
    {
      "cell_type": "code",
      "metadata": {
        "colab": {
          "base_uri": "https://localhost:8080/"
        },
        "id": "XEf18ts6QAa4",
        "outputId": "af119f7c-96c4-40b4-81d1-f0584c29179f"
      },
      "source": [
        "bigList = set(bigList)  #셋으로 변환 하면 중복 제거 되기 떄문에 데이터 조회 시 빠름\n",
        "\"abc\" in bigList    # 0초 걸림"
      ],
      "execution_count": null,
      "outputs": [
        {
          "output_type": "execute_result",
          "data": {
            "text/plain": [
              "False"
            ]
          },
          "metadata": {
            "tags": []
          },
          "execution_count": 2
        }
      ]
    },
    {
      "cell_type": "markdown",
      "metadata": {
        "id": "P_5nfP3qRbjD"
      },
      "source": [
        "딕셔너리 (키.값으로 검색해야 할 떄 매우 유용)"
      ]
    },
    {
      "cell_type": "markdown",
      "metadata": {
        "id": "QLscBwYSST1e"
      },
      "source": [
        ""
      ]
    },
    {
      "cell_type": "code",
      "metadata": {
        "colab": {
          "base_uri": "https://localhost:8080/"
        },
        "id": "kwENVbD8RgH9",
        "outputId": "afd81787-872e-45ab-8c09-8682a8ecd147"
      },
      "source": [
        "# 1) 리스트 준비\n",
        "seq = [\"alpha\",\"bravo\",\"charlie\",\"delta\"]\n",
        "# 2) 딕셔너리 만들기    -> 인덱스 정보를 Key, Data를 value\n",
        "dict(enumerate(seq))"
      ],
      "execution_count": null,
      "outputs": [
        {
          "output_type": "execute_result",
          "data": {
            "text/plain": [
              "{0: 'alpha', 1: 'bravo', 2: 'charlie', 3: 'delta'}"
            ]
          },
          "metadata": {
            "tags": []
          },
          "execution_count": 4
        }
      ]
    },
    {
      "cell_type": "markdown",
      "metadata": {
        "id": "DOcvDPCuTZ5M"
      },
      "source": [
        "리스트 딕셔너리 만들기 - 키순서열과 값 순서열에 클래스 생성자인 zip(key, value)"
      ]
    },
    {
      "cell_type": "code",
      "metadata": {
        "colab": {
          "base_uri": "https://localhost:8080/"
        },
        "id": "FrWAalYGTpi4",
        "outputId": "fa51fa49-bc38-4631-ed45-0ec38d17f223"
      },
      "source": [
        "kseq = \"abcd\" #문자열 또한 , 순서열이다.\n",
        "vseq = [\"alpha\",\"bravo\",\"charlie\",\"delta\"]\n",
        "\n",
        "dict(zip(kseq,vseq))"
      ],
      "execution_count": null,
      "outputs": [
        {
          "output_type": "execute_result",
          "data": {
            "text/plain": [
              "{'a': 'alpha', 'b': 'bravo', 'c': 'charlie', 'd': 'delta'}"
            ]
          },
          "metadata": {
            "tags": []
          },
          "execution_count": 13
        }
      ]
    },
    {
      "cell_type": "code",
      "metadata": {
        "colab": {
          "base_uri": "https://localhost:8080/"
        },
        "id": "Pzy3jS0pYHcQ",
        "outputId": "b5587ff0-e6d5-4ff1-e203-81d9630ca737"
      },
      "source": [
        "from collections import Counter\n",
        "phrase = \"a man a plan a canal panama\"\n",
        "cntr = Counter(phrase.split())\n",
        "\n",
        "\n",
        "cntr.most_common(1)"
      ],
      "execution_count": null,
      "outputs": [
        {
          "output_type": "execute_result",
          "data": {
            "text/plain": [
              "[('a', 3)]"
            ]
          },
          "metadata": {
            "tags": []
          },
          "execution_count": 19
        }
      ]
    },
    {
      "cell_type": "code",
      "metadata": {
        "id": "fyxVQUBQbHhJ"
      },
      "source": [
        "cntrDict = dict(cntr.most_common())"
      ],
      "execution_count": null,
      "outputs": []
    },
    {
      "cell_type": "code",
      "metadata": {
        "colab": {
          "base_uri": "https://localhost:8080/"
        },
        "id": "tvg8Ar6KcuSs",
        "outputId": "c3a22d2f-72f9-413c-fb17-ca3047dbbe94"
      },
      "source": [
        "cntrDict['plan']"
      ],
      "execution_count": null,
      "outputs": [
        {
          "output_type": "execute_result",
          "data": {
            "text/plain": [
              "1"
            ]
          },
          "metadata": {
            "tags": []
          },
          "execution_count": 25
        }
      ]
    },
    {
      "cell_type": "code",
      "metadata": {
        "id": "O0OBbh5mc30D"
      },
      "source": [
        ""
      ],
      "execution_count": null,
      "outputs": []
    },
    {
      "cell_type": "markdown",
      "metadata": {
        "id": "cAWsM4TseEG3"
      },
      "source": [
        "웹에 접근하기"
      ]
    },
    {
      "cell_type": "code",
      "metadata": {
        "colab": {
          "base_uri": "https://localhost:8080/"
        },
        "id": "hSfTc2tReIxG",
        "outputId": "06d56275-66a3-45ad-f824-c7d2a91abf5d"
      },
      "source": [
        "import urllib.request\n",
        "try:\n",
        "  with urllib.urlopen(\"http://networksciencelab.com\") as doc:\n",
        "    html = doc.read()\n",
        "    print(html)\n",
        "\n",
        "except:\n",
        "  print(\"could not open\")"
      ],
      "execution_count": null,
      "outputs": [
        {
          "output_type": "stream",
          "text": [
            "could not open\n"
          ],
          "name": "stdout"
        }
      ]
    },
    {
      "cell_type": "code",
      "metadata": {
        "colab": {
          "base_uri": "https://localhost:8080/",
          "height": 134
        },
        "id": "RkGsqGWGfsAo",
        "outputId": "c5a135e6-ccab-4e2d-d174-eeea17eee557"
      },
      "source": [
        "import urllib.request\n",
        "\n",
        "\n",
        "with urllip.urlopen(\"http://networksciencelab.com\")"
      ],
      "execution_count": null,
      "outputs": [
        {
          "output_type": "error",
          "ename": "SyntaxError",
          "evalue": "ignored",
          "traceback": [
            "\u001b[0;36m  File \u001b[0;32m\"<ipython-input-27-b31d3dd36a08>\"\u001b[0;36m, line \u001b[0;32m4\u001b[0m\n\u001b[0;31m    with urllip.urlopen(\"http://networksciencelab.com\")\u001b[0m\n\u001b[0m                                                       ^\u001b[0m\n\u001b[0;31mSyntaxError\u001b[0m\u001b[0;31m:\u001b[0m invalid syntax\n"
          ]
        }
      ]
    },
    {
      "cell_type": "code",
      "metadata": {
        "colab": {
          "base_uri": "https://localhost:8080/"
        },
        "id": "f5bWaUgWg34F",
        "outputId": "f69883ce-2417-4694-d9f6-0e050191b968"
      },
      "source": [
        "import urllib.parse\n",
        "\n",
        "URL = \"http://networksciencelab.com/index.html;param?foo=bar#content\" #url 파싱하여 6개의 아이템으로 구성된 튜플로 분리 스키마 네트워크 주소, 파일 시스템 경로, 파라미터, 쿼리, 플래그먼트\n",
        "\n",
        "urllib.parse.urlparse(URL)\n"
      ],
      "execution_count": null,
      "outputs": [
        {
          "output_type": "execute_result",
          "data": {
            "text/plain": [
              "ParseResult(scheme='http', netloc='networksciencelab.com', path='/index.html', params='param', query='foo=bar', fragment='content')"
            ]
          },
          "metadata": {
            "tags": []
          },
          "execution_count": 29
        }
      ]
    },
    {
      "cell_type": "markdown",
      "metadata": {
        "id": "OrPnu8qMoT-i"
      },
      "source": [
        "정규식\n"
      ]
    },
    {
      "cell_type": "code",
      "metadata": {
        "colab": {
          "base_uri": "https://localhost:8080/"
        },
        "id": "fxwkO0NzeVio",
        "outputId": "f573c841-008c-419c-e6ec-64e1916b60e8"
      },
      "source": [
        "a = 'abcdef\\n'\n",
        "print(a)\n",
        "\n",
        "b = r'abcdf\\t' # 원천 문자열(raw string)로 인식\n",
        "print(b)"
      ],
      "execution_count": null,
      "outputs": [
        {
          "output_type": "stream",
          "text": [
            "abcdef\n",
            "\n",
            "abcdf\\t\n"
          ],
          "name": "stdout"
        }
      ]
    },
    {
      "cell_type": "code",
      "metadata": {
        "colab": {
          "base_uri": "https://localhost:8080/"
        },
        "id": "Iq_8kvZApekj",
        "outputId": "47d83791-5001-4581-80b5-8d66bd8c5faa"
      },
      "source": [
        "import re\n",
        "\n",
        "re.compile(r'(\\d+)/(\\d+)/(\\d+)')"
      ],
      "execution_count": null,
      "outputs": [
        {
          "output_type": "execute_result",
          "data": {
            "text/plain": [
              "re.compile(r'(\\d+)/(\\d+)/(\\d+)', re.UNICODE)"
            ]
          },
          "metadata": {
            "tags": []
          },
          "execution_count": 32
        }
      ]
    },
    {
      "cell_type": "code",
      "metadata": {
        "colab": {
          "base_uri": "https://localhost:8080/"
        },
        "id": "hLsKKvqsqADc",
        "outputId": "9228e408-021f-4dea-a5bb-d7e441921db7"
      },
      "source": [
        "re.compile('(\\d+)/(\\d+)/(\\d+)')"
      ],
      "execution_count": null,
      "outputs": [
        {
          "output_type": "execute_result",
          "data": {
            "text/plain": [
              "re.compile(r'(\\d+)/(\\d+)/(\\d+)', re.UNICODE)"
            ]
          },
          "metadata": {
            "tags": []
          },
          "execution_count": 33
        }
      ]
    },
    {
      "cell_type": "markdown",
      "metadata": {
        "id": "bxwqvUBIqSiv"
      },
      "source": [
        "정규 표현식으로 패턴 매칭하기"
      ]
    },
    {
      "cell_type": "markdown",
      "metadata": {
        "id": "0Da6inEaqaKd"
      },
      "source": [
        "re.split() 함수 단어 분석을 위한 기본적인 단어 토크나이저로 사용 할 수 있음"
      ]
    },
    {
      "cell_type": "code",
      "metadata": {
        "colab": {
          "base_uri": "https://localhost:8080/"
        },
        "id": "PIqnIjtWqf9c",
        "outputId": "8442958d-24f3-44aa-edc7-a7caf2ad50ac"
      },
      "source": [
        "import re\n",
        "\n",
        "re.split(r'\\W', \"Hello, world!\")     #r'\\W' ->숫자 , 알파벳 제외 한 개체 1개-> 잘라라"
      ],
      "execution_count": null,
      "outputs": [
        {
          "output_type": "execute_result",
          "data": {
            "text/plain": [
              "['Hello', '', 'world', '']"
            ]
          },
          "metadata": {
            "tags": []
          },
          "execution_count": 4
        }
      ]
    },
    {
      "cell_type": "code",
      "metadata": {
        "colab": {
          "base_uri": "https://localhost:8080/"
        },
        "id": "Fua1oBVJr2mP",
        "outputId": "bf817305-c1c0-40b0-e776-5e8e58abe436"
      },
      "source": [
        "# 인근에 위치한 비문자(non-letter) (,)를 합친다\n",
        "re.split(r\"\\W+\",\"Hello world!\")         #r'\\W+' 알파벳이나 숫자가 아닌 개체 1개 이상 합친다(+)"
      ],
      "execution_count": null,
      "outputs": [
        {
          "output_type": "execute_result",
          "data": {
            "text/plain": [
              "['Hello', 'world', '']"
            ]
          },
          "metadata": {
            "tags": []
          },
          "execution_count": 5
        }
      ]
    },
    {
      "cell_type": "code",
      "metadata": {
        "colab": {
          "base_uri": "https://localhost:8080/"
        },
        "id": "jrxRCz4ztB56",
        "outputId": "1a836a49-7fcb-46de-a02a-a3d6b348b266"
      },
      "source": [
        "mo = re.findall(r\"\\d+\",\"067 starts with number\")\n",
        "mo"
      ],
      "execution_count": null,
      "outputs": [
        {
          "output_type": "execute_result",
          "data": {
            "text/plain": [
              "['067']"
            ]
          },
          "metadata": {
            "tags": []
          },
          "execution_count": 9
        }
      ]
    },
    {
      "cell_type": "code",
      "metadata": {
        "colab": {
          "base_uri": "https://localhost:8080/"
        },
        "id": "PS93bQYOt3Tk",
        "outputId": "106d48b5-6673-48c9-e06a-2f426cf98d20"
      },
      "source": [
        "mo"
      ],
      "execution_count": null,
      "outputs": [
        {
          "output_type": "execute_result",
          "data": {
            "text/plain": [
              "['067']"
            ]
          },
          "metadata": {
            "tags": []
          },
          "execution_count": 10
        }
      ]
    },
    {
      "cell_type": "code",
      "metadata": {
        "colab": {
          "base_uri": "https://localhost:8080/"
        },
        "id": "6leGz82Ht95G",
        "outputId": "d6bdeeba-a397-46e9-bbf2-9b22b9738311"
      },
      "source": [
        "print(re.match(r\"\\d+\",\"Dose not starts with a numbber\"))"
      ],
      "execution_count": null,
      "outputs": [
        {
          "output_type": "stream",
          "text": [
            "<re.Match object; span=(0, 6), match='312323'>\n"
          ],
          "name": "stdout"
        }
      ]
    },
    {
      "cell_type": "code",
      "metadata": {
        "colab": {
          "base_uri": "https://localhost:8080/",
          "height": 35
        },
        "id": "n8KXSq9uui9X",
        "outputId": "a656dce0-6bbd-423d-c6fa-dd396d7ceef0"
      },
      "source": [
        "# search 문자열 일부분이 정규식과 매칭되는지 확인(매칭되는게 앞부분에 없다면 이 함수 사용)\n",
        "# [a-z] : 소문자들만 일치\n",
        "# re.I : 대소문자 구분하지 않음\n",
        "re.search(r\"[\\d]+\",\"0010010 Has at least one 010 letter 0010010\",re.I).group()"
      ],
      "execution_count": null,
      "outputs": [
        {
          "output_type": "execute_result",
          "data": {
            "application/vnd.google.colaboratory.intrinsic+json": {
              "type": "string"
            },
            "text/plain": [
              "'0010010'"
            ]
          },
          "metadata": {
            "tags": []
          },
          "execution_count": 29
        }
      ]
    },
    {
      "cell_type": "code",
      "metadata": {
        "colab": {
          "base_uri": "https://localhost:8080/",
          "height": 35
        },
        "id": "KvJHX4-GvxLv",
        "outputId": "e5058f4c-fc98-428c-d37b-ccc7d942f17b"
      },
      "source": [
        "# search 문자열 일부분이 정규식과 매칭되는지 확인(매칭되는게 앞부분에 없다면 이 함수 사용)\n",
        "# [a-z] : 소문자들만 일치\n",
        "re.search(r\"[a-z]+\",\"0010010 Has at least one 010 letter 0010010\").group()"
      ],
      "execution_count": null,
      "outputs": [
        {
          "output_type": "execute_result",
          "data": {
            "application/vnd.google.colaboratory.intrinsic+json": {
              "type": "string"
            },
            "text/plain": [
              "'as'"
            ]
          },
          "metadata": {
            "tags": []
          },
          "execution_count": 45
        }
      ]
    },
    {
      "cell_type": "code",
      "metadata": {
        "colab": {
          "base_uri": "https://localhost:8080/",
          "height": 35
        },
        "id": "ZMiFzLoEv-e3",
        "outputId": "34c60d92-d68a-431a-a3df-79ee89a8a441"
      },
      "source": [
        "# search 문자열 일부분이 정규식과 매칭되는지 확인(매칭되는게 앞부분에 없다면 이 함수 사용)\n",
        "# [A-Z] : 대문자들만 일치\n",
        "re.search(r\"[A-Z]+\",\"0010010 has at least ONE 010 letter 0010010\").group()"
      ],
      "execution_count": null,
      "outputs": [
        {
          "output_type": "execute_result",
          "data": {
            "application/vnd.google.colaboratory.intrinsic+json": {
              "type": "string"
            },
            "text/plain": [
              "'ONE'"
            ]
          },
          "metadata": {
            "tags": []
          },
          "execution_count": 22
        }
      ]
    },
    {
      "cell_type": "code",
      "metadata": {
        "colab": {
          "base_uri": "https://localhost:8080/"
        },
        "id": "GKL7IqW2weTr",
        "outputId": "78133e6c-81b1-4bec-8096-43897e4cec9d"
      },
      "source": [
        "#findall : 정규식에 부합하는 모든 문자열 찾기(대소문자 무시)-> 모든 소문자 들어 있는 토큰 찾기\n",
        "re.findall(r\"[a-z]+\",\"0010010 Has at least one 010 letter 0010010\",re.I)"
      ],
      "execution_count": null,
      "outputs": [
        {
          "output_type": "execute_result",
          "data": {
            "text/plain": [
              "['Has', 'at', 'least', 'one', 'letter']"
            ]
          },
          "metadata": {
            "tags": []
          },
          "execution_count": 50
        }
      ]
    },
    {
      "cell_type": "code",
      "metadata": {
        "colab": {
          "base_uri": "https://localhost:8080/"
        },
        "id": "G8pNbd9DxU3v",
        "outputId": "e1f5ecff-a707-4f95-ff2b-3881bd9255c1"
      },
      "source": [
        "#findall : 정규식에 부합하는 모든 문자열 찾기(대소문자 무시)-> 모든 소문자 들어 있는 토큰 찾기\n",
        "re.findall(r\"\\d+\",\"0010010 Has at least one 010 letter 0010010\")"
      ],
      "execution_count": null,
      "outputs": [
        {
          "output_type": "execute_result",
          "data": {
            "text/plain": [
              "['0010010', '010', '0010010']"
            ]
          },
          "metadata": {
            "tags": []
          },
          "execution_count": 51
        }
      ]
    },
    {
      "cell_type": "code",
      "metadata": {
        "colab": {
          "base_uri": "https://localhost:8080/"
        },
        "id": "suBopA1hxm_d",
        "outputId": "a04cafe4-bcc1-4ace-f753-d696cdf0d0ba"
      },
      "source": [
        "#findall : 정규식에 부합하는 모든 문자열 찾기(대소문자 무시)-> 모든 소문자 들어 있는 토큰 찾기\n",
        "re.findall(r\"\\D+\",\"0010010 Has at least one 010 letter 0010010\")"
      ],
      "execution_count": null,
      "outputs": [
        {
          "output_type": "execute_result",
          "data": {
            "text/plain": [
              "[' Has at least one ', ' letter ']"
            ]
          },
          "metadata": {
            "tags": []
          },
          "execution_count": 52
        }
      ]
    },
    {
      "cell_type": "code",
      "metadata": {
        "colab": {
          "base_uri": "https://localhost:8080/"
        },
        "id": "oVoDcGLQx0vl",
        "outputId": "cb119532-da1c-476b-d533-1313659daa91"
      },
      "source": [
        "# search 문자열 일부분이 정규식과 매칭되는지 확인(매칭되는게 앞부분에 없다면 이 함수 사용)\n",
        "# [a-z] : 소문자들만 일치\n",
        "re.findall(r\"[^a-z]+\",\"0010010 Has at least one 010 letter 0010010\")"
      ],
      "execution_count": null,
      "outputs": [
        {
          "output_type": "execute_result",
          "data": {
            "text/plain": [
              "['0010010 H', ' ', ' ', ' ', ' 010 ', ' 0010010']"
            ]
          },
          "metadata": {
            "tags": []
          },
          "execution_count": 54
        }
      ]
    },
    {
      "cell_type": "code",
      "metadata": {
        "colab": {
          "base_uri": "https://localhost:8080/",
          "height": 35
        },
        "id": "ki1I8diNyBhu",
        "outputId": "938b3e01-5173-4a9b-fda6-70bb6bf11bec"
      },
      "source": [
        "# sub: string 으로 매칭되는 부분 문자열을 repi로 치환\n",
        "re.sub(r\"[^A-Za-z0-9]+\",\" \",\"010.1231.1231 010,2222,2333   010-9999-9999  010/0123/1234\")"
      ],
      "execution_count": null,
      "outputs": [
        {
          "output_type": "execute_result",
          "data": {
            "application/vnd.google.colaboratory.intrinsic+json": {
              "type": "string"
            },
            "text/plain": [
              "'010 1231 1231 010 2222 2333 010 9999 9999 010 0123 1234'"
            ]
          },
          "metadata": {
            "tags": []
          },
          "execution_count": 18
        }
      ]
    },
    {
      "cell_type": "code",
      "metadata": {
        "colab": {
          "base_uri": "https://localhost:8080/",
          "height": 35
        },
        "id": "3w71-Iauy8t3",
        "outputId": "a8605ec0-44a2-4c09-bf3d-be3e708088ea"
      },
      "source": [
        "re.sub(r\"[a-z]+\",\"[****]\",\"010-abcd-0100\")"
      ],
      "execution_count": null,
      "outputs": [
        {
          "output_type": "execute_result",
          "data": {
            "application/vnd.google.colaboratory.intrinsic+json": {
              "type": "string"
            },
            "text/plain": [
              "'010-[****]-0100'"
            ]
          },
          "metadata": {
            "tags": []
          },
          "execution_count": 60
        }
      ]
    },
    {
      "cell_type": "code",
      "metadata": {
        "colab": {
          "base_uri": "https://localhost:8080/",
          "height": 35
        },
        "id": "Ny31lyNB5ekD",
        "outputId": "3a3d6362-ea19-490a-f695-38c7098143c3"
      },
      "source": [
        "re.sub(r\"\\d+\",\"****\",\"010-abcd-0100\")"
      ],
      "execution_count": null,
      "outputs": [
        {
          "output_type": "execute_result",
          "data": {
            "application/vnd.google.colaboratory.intrinsic+json": {
              "type": "string"
            },
            "text/plain": [
              "'****-abcd-****'"
            ]
          },
          "metadata": {
            "tags": []
          },
          "execution_count": 62
        }
      ]
    }
  ]
}
