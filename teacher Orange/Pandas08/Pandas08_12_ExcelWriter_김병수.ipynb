{
 "cells": [
  {
   "cell_type": "code",
   "execution_count": 1,
   "metadata": {},
   "outputs": [],
   "source": [
    "import pandas as pd"
   ]
  },
  {
   "cell_type": "code",
   "execution_count": 2,
   "metadata": {},
   "outputs": [
    {
     "name": "stdout",
     "output_type": "stream",
     "text": [
      "      algol basic c++\n",
      "name                 \n",
      "Jerry     A     C  B+\n",
      "Riah     A+     B   C\n",
      "Paul      B    B+  C+\n"
     ]
    }
   ],
   "source": [
    "data = {'name' : ['Jerry', 'Riah', 'Paul'],\n",
    "       'algol' : [\"A\",\"A+\",\"B\"],\n",
    "       'basic' : [\"C\",\"B\",\"B+\"],\n",
    "       'c++' : [\"B+\",\"C\",\"C+\"]}\n",
    "\n",
    "df = pd.DataFrame(data)\n",
    "df.set_index('name',inplace = True)\n",
    "print(df)\n",
    "\n",
    "#to_csv() 메소드를 사용하여 CSV 파일로 내보내기, 파일명은 df_sample.csv로 저장\n",
    "df.to_json(\"./df_sample.json\")"
   ]
  },
  {
   "cell_type": "code",
   "execution_count": 3,
   "metadata": {},
   "outputs": [
    {
     "name": "stdout",
     "output_type": "stream",
     "text": [
      "      algol basic c++\n",
      "name                 \n",
      "Jerry     A     C  B+\n",
      "Riah     A+     B   C\n",
      "Paul      B    B+  C+\n"
     ]
    }
   ],
   "source": [
    "data = {'name' : ['Jerry', 'Riah', 'Paul'],\n",
    "       'algol' : [\"A\",\"A+\",\"B\"],\n",
    "       'basic' : [\"C\",\"B\",\"B+\"],\n",
    "       'c++' : [\"B+\",\"C\",\"C+\"]}\n",
    "\n",
    "df = pd.DataFrame(data)\n",
    "df.set_index('name',inplace = True)\n",
    "print(df)\n",
    "\n",
    "#to_csv() 메소드를 사용하여 CSV 파일로 내보내기, 파일명은 df_sample.csv로 저장\n",
    "df.to_excel(\"./df_sample.xlsx\")"
   ]
  },
  {
   "cell_type": "code",
   "execution_count": 5,
   "metadata": {},
   "outputs": [
    {
     "name": "stdout",
     "output_type": "stream",
     "text": [
      "      algol basic c++\n",
      "name                 \n",
      "Jerry     A     C  B+\n",
      "Riah     A+     B   C\n",
      "Paul      B    B+  C+\n",
      "\n",
      "\n",
      "    c1  c2  c3  c4\n",
      "c0                \n",
      "1    4   7  10  13\n",
      "2    5   8  11  14\n",
      "3    6   9  12  15\n"
     ]
    }
   ],
   "source": [
    "data1 = {'name' : ['Jerry', 'Riah', 'Paul'],\n",
    "       'algol' : [\"A\",\"A+\",\"B\"],\n",
    "       'basic' : [\"C\",\"B\",\"B+\"],\n",
    "       'c++' : [\"B+\",\"C\",\"C+\"]}\n",
    "\n",
    "data2 = {'c0':[1,2,3],\n",
    "        'c1' : [4,5,6],\n",
    "        'c2' : [7,8,9],\n",
    "        'c3' : [10,11,12],\n",
    "        'c4' : [13,14,15]}\n",
    "\n",
    "df1 = pd.DataFrame(data1)\n",
    "df1.set_index('name',inplace = True)\n",
    "print(df1)\n",
    "print('\\n')\n",
    "\n",
    "df2 = pd.DataFrame(data2)\n",
    "df2.set_index('c0',inplace = True)\n",
    "print(df2)\n",
    "#to_csv() 메소드를 사용하여 CSV 파일로 내보내기, 파일명은 df_sample.csv로 저장\n",
    "writer = pd.ExcelWriter(\"./df_excelwriter.xlsx\")\n",
    "df1.to_excel(writer, sheet_name = \"시트1\")\n",
    "df2.to_excel(writer, sheet_name = \"시트2\")\n",
    "writer.save()\n",
    "\n"
   ]
  }
 ],
 "metadata": {
  "kernelspec": {
   "display_name": "Python 3",
   "language": "python",
   "name": "python3"
  },
  "language_info": {
   "codemirror_mode": {
    "name": "ipython",
    "version": 3
   },
   "file_extension": ".py",
   "mimetype": "text/x-python",
   "name": "python",
   "nbconvert_exporter": "python",
   "pygments_lexer": "ipython3",
   "version": "3.6.5"
  }
 },
 "nbformat": 4,
 "nbformat_minor": 2
}
