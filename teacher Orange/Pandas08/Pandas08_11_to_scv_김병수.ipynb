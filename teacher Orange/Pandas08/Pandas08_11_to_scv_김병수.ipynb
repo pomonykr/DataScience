{
 "cells": [
  {
   "cell_type": "code",
   "execution_count": 1,
   "metadata": {},
   "outputs": [],
   "source": [
    "import pandas as pd"
   ]
  },
  {
   "cell_type": "code",
   "execution_count": 2,
   "metadata": {},
   "outputs": [
    {
     "name": "stdout",
     "output_type": "stream",
     "text": [
      "      algol basic c++\n",
      "name                 \n",
      "Jerry     A     C  B+\n",
      "Riah     A+     B   C\n",
      "Paul      B    B+  C+\n"
     ]
    }
   ],
   "source": [
    "#판다스 DataFrame() 함수로 데이터프레임 변환. 변수df에 저장\n",
    "data = {'name' : ['Jerry', 'Riah', 'Paul'],\n",
    "       'algol' : [\"A\",\"A+\",\"B\"],\n",
    "       'basic' : [\"C\",\"B\",\"B+\"],\n",
    "       'c++' : [\"B+\",\"C\",\"C+\"]}\n",
    "\n",
    "df = pd.DataFrame(data)\n",
    "df.set_index('name',inplace = True)\n",
    "print(df)\n",
    "\n",
    "#to_csv() 메소드를 사용하여 CSV 파일로 내보내기, 파일명은 df_sample.csv로 저장\n",
    "df.to_csv(\"./df_sample.csv\")"
   ]
  }
 ],
 "metadata": {
  "kernelspec": {
   "display_name": "Python 3",
   "language": "python",
   "name": "python3"
  },
  "language_info": {
   "codemirror_mode": {
    "name": "ipython",
    "version": 3
   },
   "file_extension": ".py",
   "mimetype": "text/x-python",
   "name": "python",
   "nbconvert_exporter": "python",
   "pygments_lexer": "ipython3",
   "version": "3.6.5"
  }
 },
 "nbformat": 4,
 "nbformat_minor": 2
}
