{
 "cells": [
  {
   "cell_type": "code",
   "execution_count": 1,
   "metadata": {},
   "outputs": [],
   "source": [
    "import pandas as pd\n",
    "import seaborn as sns"
   ]
  },
  {
   "cell_type": "code",
   "execution_count": 2,
   "metadata": {},
   "outputs": [],
   "source": [
    "titanic = sns.load_dataset('titanic')"
   ]
  },
  {
   "cell_type": "code",
   "execution_count": 5,
   "metadata": {},
   "outputs": [
    {
     "name": "stdout",
     "output_type": "stream",
     "text": [
      "24 38\n",
      "0세 이상 - 10세 미만 사망자수: 38\n",
      "61 41\n",
      "10세 이상 - 20세 미만 사망자수: 41\n",
      "143 77\n",
      "20세 이상 - 30세 미만 사망자수: 77\n",
      "94 73\n",
      "30세 이상 - 40세 미만 사망자수: 73\n",
      "55 34\n",
      "40세 이상 - 50세 미만 사망자수: 34\n",
      "28 20\n",
      "50세 이상 - 60세 미만 사망자수: 20\n",
      "13 6\n",
      "60세 이상 - 70세 미만 사망자수: 6\n",
      "6 0\n",
      "70세 이상 - 80세 미만 사망자수: 0\n",
      "0 1\n",
      "80세 이상 - 90세 미만 사망자수: 1\n"
     ]
    }
   ],
   "source": [
    "ages = list(range(0,90,10))\n",
    "for x in ages:\n",
    "    start = x\n",
    "    end = x+10\n",
    "    ageTemp = titanic[(titanic['age']>= start)&(titanic['age']<end)]\n",
    "    print(ageTemp['sex'][ageTemp['survived']==0].count(),ageTemp['sex'][ageTemp['survived']==1].count())\n",
    "    print(\"{}세 이상 - {}세 미만 사망자수: {}\".format(start,end,(ageTemp['sex'][ageTemp['survived']==1].count())))"
   ]
  }
 ],
 "metadata": {
  "kernelspec": {
   "display_name": "Python 3",
   "language": "python",
   "name": "python3"
  },
  "language_info": {
   "codemirror_mode": {
    "name": "ipython",
    "version": 3
   },
   "file_extension": ".py",
   "mimetype": "text/x-python",
   "name": "python",
   "nbconvert_exporter": "python",
   "pygments_lexer": "ipython3",
   "version": "3.6.5"
  }
 },
 "nbformat": 4,
 "nbformat_minor": 2
}
