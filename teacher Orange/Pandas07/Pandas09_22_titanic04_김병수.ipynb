{
 "cells": [
  {
   "cell_type": "code",
   "execution_count": 1,
   "metadata": {},
   "outputs": [],
   "source": [
    "import pandas as pd\n",
    "import seaborn as sns"
   ]
  },
  {
   "cell_type": "code",
   "execution_count": 2,
   "metadata": {},
   "outputs": [],
   "source": [
    "titanic = sns.load_dataset('titanic')"
   ]
  },
  {
   "cell_type": "code",
   "execution_count": 6,
   "metadata": {},
   "outputs": [],
   "source": [
    "age0 = titanic[(titanic['age']>=0)&(titanic['age']<10)]\n",
    "age1 = titanic[(titanic['age']>=10)&(titanic['age']<20)]\n",
    "age2 = titanic[(titanic['age']>=20)&(titanic['age']<30)]\n",
    "age3 = titanic[(titanic['age']>=30)&(titanic['age']<40)]\n",
    "age4 = titanic[(titanic['age']>=40)&(titanic['age']<50)]\n",
    "age5 = titanic[(titanic['age']>=50)&(titanic['age']<60)]\n",
    "age6 = titanic[(titanic['age']>=60)&(titanic['age']<70)]\n",
    "age7 = titanic[(titanic['age']>=70)&(titanic['age']<80)]\n",
    "age8 = titanic[(titanic['age']>=80)&(titanic['age']<90)]"
   ]
  },
  {
   "cell_type": "code",
   "execution_count": 7,
   "metadata": {},
   "outputs": [
    {
     "name": "stdout",
     "output_type": "stream",
     "text": [
      "0-10대 사망자수 :  62\n",
      "10-20대 사망자수 :  102\n",
      "20-30대 사망자수 :  220\n",
      "30-40대 사망자수 :  167\n",
      "40-50대 사망자수 :  89\n",
      "50-60대 사망자수 :  48\n",
      "60-70대 사망자수 :  19\n",
      "70-80대 사망자수 :  6\n",
      "80-90대 사망자수 :  1\n"
     ]
    }
   ],
   "source": [
    "print(\"0-10대 사망자수 : \",len(age0['survived']==0))\n",
    "print(\"10-20대 사망자수 : \",len(age1['survived']==0))\n",
    "print(\"20-30대 사망자수 : \",len(age2['survived']==0))\n",
    "print(\"30-40대 사망자수 : \",len(age3['survived']==0))\n",
    "print(\"40-50대 사망자수 : \",len(age4['survived']==0))\n",
    "print(\"50-60대 사망자수 : \",len(age5['survived']==0))\n",
    "print(\"60-70대 사망자수 : \",len(age6['survived']==0))\n",
    "print(\"70-80대 사망자수 : \",len(age7['survived']==0))\n",
    "print(\"80-90대 사망자수 : \",len(age8['survived']==0))"
   ]
  },
  {
   "cell_type": "code",
   "execution_count": 12,
   "metadata": {},
   "outputs": [
    {
     "name": "stdout",
     "output_type": "stream",
     "text": [
      "0세 이상 - 10세 미만 사망자수 : 62\n",
      "10세 이상 - 20세 미만 사망자수 : 102\n",
      "20세 이상 - 30세 미만 사망자수 : 220\n",
      "30세 이상 - 40세 미만 사망자수 : 167\n",
      "40세 이상 - 50세 미만 사망자수 : 89\n",
      "50세 이상 - 60세 미만 사망자수 : 48\n",
      "60세 이상 - 70세 미만 사망자수 : 19\n",
      "70세 이상 - 80세 미만 사망자수 : 6\n",
      "80세 이상 - 90세 미만 사망자수 : 1\n"
     ]
    }
   ],
   "source": [
    "ages = list(range(0,90,10))\n",
    "\n",
    "for x in ages:\n",
    "    start = x\n",
    "    end = x+10\n",
    "    ageTemp = titanic[(titanic['age'] >= start) & (titanic['age'] < end)]\n",
    "    print(\"{}세 이상 - {}세 미만 사망자수 : {}\".format(start,end,(ageTemp['survived']).count() ))"
   ]
  },
  {
   "cell_type": "code",
   "execution_count": 15,
   "metadata": {},
   "outputs": [
    {
     "name": "stdout",
     "output_type": "stream",
     "text": [
      "24 38\n",
      "0세 이상 - 10세 미만 사망자수: 38\n",
      "61 41\n",
      "10세 이상 - 20세 미만 사망자수: 41\n",
      "143 77\n",
      "20세 이상 - 30세 미만 사망자수: 77\n",
      "94 73\n",
      "30세 이상 - 40세 미만 사망자수: 73\n",
      "55 34\n",
      "40세 이상 - 50세 미만 사망자수: 34\n",
      "28 20\n",
      "50세 이상 - 60세 미만 사망자수: 20\n",
      "13 6\n",
      "60세 이상 - 70세 미만 사망자수: 6\n",
      "6 0\n",
      "70세 이상 - 80세 미만 사망자수: 0\n",
      "0 1\n",
      "80세 이상 - 90세 미만 사망자수: 1\n"
     ]
    }
   ],
   "source": [
    "ages = list(range(0,90,10))\n",
    "for x in ages:\n",
    "    start = x\n",
    "    end = x+10\n",
    "    ageTemp = titanic[(titanic['age']>= start)&(titanic['age']<end)]\n",
    "    print(ageTemp['sex'][ageTemp['survived']==0].count(),ageTemp['sex'][ageTemp['survived']==1].count())\n",
    "    print(\"{}세 이상 - {}세 미만 사망자수: {}\".format(start,end,(ageTemp['sex'][ageTemp['survived']==1].count())))"
   ]
  }
 ],
 "metadata": {
  "kernelspec": {
   "display_name": "Python 3",
   "language": "python",
   "name": "python3"
  },
  "language_info": {
   "codemirror_mode": {
    "name": "ipython",
    "version": 3
   },
   "file_extension": ".py",
   "mimetype": "text/x-python",
   "name": "python",
   "nbconvert_exporter": "python",
   "pygments_lexer": "ipython3",
   "version": "3.6.5"
  }
 },
 "nbformat": 4,
 "nbformat_minor": 2
}
