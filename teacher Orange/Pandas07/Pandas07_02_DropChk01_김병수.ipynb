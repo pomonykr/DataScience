{
 "cells": [
  {
   "cell_type": "code",
   "execution_count": 1,
   "metadata": {},
   "outputs": [],
   "source": [
    "import pandas as pd"
   ]
  },
  {
   "cell_type": "code",
   "execution_count": 2,
   "metadata": {},
   "outputs": [
    {
     "name": "stdout",
     "output_type": "stream",
     "text": [
      "<class 'pandas.core.frame.DataFrame'> \n",
      "\n",
      "   c0  c1  c2  c3  c4\n",
      "0   1   4   7  10  13\n",
      "1   2   5   8  11  14\n",
      "2   3   6   9  12  15\n"
     ]
    }
   ],
   "source": [
    "#열이름 key로 하고 ,리스트를 value로 갖는 딕셔너리 (2차원 배열)\n",
    "dict_data = {'c0':[1,2,3],'c1':[4,5,6],'c2':[7,8,9],'c3':[10,11,12],'c4':[13,14,15]}\n",
    "\n",
    "#판다스 DataFrame() 함수로 딕셔너리를 데이터프레임으로 변환, 변수 df에 저장\n",
    "df= pd.DataFrame(dict_data)\n",
    "#df의 자료형 출력\n",
    "print(type(df),'\\n')\n",
    "#변수 df에 저장되어 있는 데이터프레임 객체를 출력\n",
    "print(df)"
   ]
  },
  {
   "cell_type": "code",
   "execution_count": 5,
   "metadata": {},
   "outputs": [
    {
     "name": "stdout",
     "output_type": "stream",
     "text": [
      "    나이 성별   학교\n",
      "준서  15  남  덕영중\n",
      "예은  17  여  수리중 \n",
      "\n",
      "Index(['준서', '예은'], dtype='object') \n",
      "\n",
      "Index(['나이', '성별', '학교'], dtype='object') \n",
      "\n",
      "     연령 남녀   소속\n",
      "학생1  15  남  덕영중\n",
      "학생2  17  여  수리중 \n",
      "\n",
      "Index(['학생1', '학생2'], dtype='object') \n",
      "\n",
      "Index(['연령', '남녀', '소속'], dtype='object') \n",
      "\n"
     ]
    }
   ],
   "source": [
    "# 행 인덱스/ 열 이름 지정하여 , 데이터프레임 만들기\n",
    "df = pd.DataFrame([[15,'남','덕영중'],[17,'여','수리중']],\n",
    "                  index=['준서','예은'],\n",
    "                  columns=['나이','성별','학교'])\n",
    "#행 인덱스,열 이름 확인하기\n",
    "print(df,'\\n')\n",
    "print(df.index,'\\n')\n",
    "print(df.columns,'\\n')\n",
    "#행 인덱스 , 열이름 변경하기\n",
    "df.index=['학생1','학생2']\n",
    "df.columns=['연령','남녀','소속']\n",
    "\n",
    "print(df,'\\n') #데이터프레임\n",
    "print(df.index,'\\n')  #행 인덱스\n",
    "print(df.columns,'\\n')  #열 이름"
   ]
  },
  {
   "cell_type": "code",
   "execution_count": 6,
   "metadata": {},
   "outputs": [
    {
     "name": "stdout",
     "output_type": "stream",
     "text": [
      "    나이 성별   학교\n",
      "준서  15  남  덕영중\n",
      "예은  17  여  수리중 \n",
      "\n",
      "    연령 남녀   소속\n",
      "준서  15  남  덕영중\n",
      "예은  17  여  수리중\n",
      "    나이 성별   학교\n",
      "준서  15  남  덕영중\n",
      "예은  17  여  수리중\n",
      "     연령 남녀   소속\n",
      "학생1  15  남  덕영중\n",
      "학생2  17  여  수리중\n"
     ]
    }
   ],
   "source": [
    "#행 인덱스/열 이름 지정하여, 데이터프레임 만들기\n",
    "df = pd.DataFrame([[15,'남','덕영중'],[17,'여','수리중']],\n",
    "                 index=['준서','예은'],\n",
    "                 columns=['나이','성별','학교'])\n",
    "# 데이터프레임 df 출력\n",
    "print(df,\"\\n\")\n",
    "\n",
    "reaf = df.rename(columns={'나이':'연령','성별':'남녀','학교':'소속'})\n",
    "df.rename(index={'준서':'학생1','예은':'학생2'})\n",
    "\n",
    "#df 출력(변경 후)\n",
    "print(reaf)\n",
    "print(df)\n",
    "\n",
    "reaf = df.rename(columns={'나이':'연령','성별':'남녀','학교':'소속'},inplace=True)\n",
    "df.rename(index={'준서':'학생1','예은':'학생2'},inplace=True)\n",
    "\n",
    "#df 출력(변경 후)\n",
    "print(df)\n"
   ]
  },
  {
   "cell_type": "code",
   "execution_count": null,
   "metadata": {},
   "outputs": [],
   "source": []
  },
  {
   "cell_type": "code",
   "execution_count": null,
   "metadata": {},
   "outputs": [],
   "source": []
  }
 ],
 "metadata": {
  "kernelspec": {
   "display_name": "Python 3",
   "language": "python",
   "name": "python3"
  },
  "language_info": {
   "codemirror_mode": {
    "name": "ipython",
    "version": 3
   },
   "file_extension": ".py",
   "mimetype": "text/x-python",
   "name": "python",
   "nbconvert_exporter": "python",
   "pygments_lexer": "ipython3",
   "version": "3.6.5"
  }
 },
 "nbformat": 4,
 "nbformat_minor": 2
}
