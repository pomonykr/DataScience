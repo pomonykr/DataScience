{
 "cells": [
  {
   "cell_type": "code",
   "execution_count": 1,
   "metadata": {},
   "outputs": [],
   "source": [
    "import pandas as pd"
   ]
  },
  {
   "cell_type": "code",
   "execution_count": 4,
   "metadata": {},
   "outputs": [
    {
     "name": "stdout",
     "output_type": "stream",
     "text": [
      "    c  c1  c2  c3  c4\n",
      "r0  1   8   7  10  13\n",
      "r1  2   1   8  11  14\n",
      "r2  3   3   9  12  15 \n",
      "\n",
      "    c  c1  c2  c3  c4\n",
      "r0  1   8   7  10  13\n",
      "r2  3   3   9  12  15\n",
      "r1  2   1   8  11  14\n",
      "    c  c1  c2  c3  c4\n",
      "r0  1   8   7  10  13\n",
      "r1  2   1   8  11  14\n",
      "r2  3   3   9  12  15\n"
     ]
    }
   ],
   "source": [
    "#딕셔너리를 정의\n",
    "dict_data = {'c':[1,2,3],'c1':[8,1,3],'c2':[7,8,9],'c3':[10,11,12],'c4':[13,14,15]}\n",
    "\n",
    "#딕셔너리를 데이터프레임으로 변환 인덱스를 [r0,r1,r2]로 지정\n",
    "df = pd.DataFrame(dict_data,index=['r0','r1','r2'])\n",
    "print(df,'\\n')\n",
    "\n",
    "#c1 열을 기준으로 내림차순 정렬\n",
    "ndf = df.sort_values(by='c1',ascending=False)\n",
    "print(ndf) \n",
    "ndf2 = df.sort_index()\n",
    "print(ndf2)"
   ]
  }
 ],
 "metadata": {
  "kernelspec": {
   "display_name": "Python 3",
   "language": "python",
   "name": "python3"
  },
  "language_info": {
   "codemirror_mode": {
    "name": "ipython",
    "version": 3
   },
   "file_extension": ".py",
   "mimetype": "text/x-python",
   "name": "python",
   "nbconvert_exporter": "python",
   "pygments_lexer": "ipython3",
   "version": "3.6.5"
  }
 },
 "nbformat": 4,
 "nbformat_minor": 2
}
