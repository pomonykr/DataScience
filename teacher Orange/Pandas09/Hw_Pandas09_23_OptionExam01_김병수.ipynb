{
 "cells": [
  {
   "cell_type": "code",
   "execution_count": 1,
   "metadata": {},
   "outputs": [],
   "source": [
    "import pandas as pd"
   ]
  },
  {
   "cell_type": "code",
   "execution_count": 2,
   "metadata": {},
   "outputs": [],
   "source": [
    "import pandas as pd\n",
    "deptDB = pd.read_csv('./data/deptDB.csv',header = None)\n",
    "sawonDB= pd.read_csv('./data/sawonDB.csv',header = None)\n",
    "gogekDB= pd.read_csv('./data/gogekDB.csv',header = None)\n",
    "\n",
    "deptDB.columns=['deptno','dname','loc']\n",
    "\n",
    "sawonDB.columns=['sabun','saname','deptno','sajob','sapay','sahire','sasex','samgr']\n",
    "\n",
    "gogekDB.columns=['gobun','goname','gotel','gojumin','godam']\n",
    "\n",
    "deptDB['dname'] = deptDB['dname'].str.strip(\"' \")\n",
    "deptDB['loc'] = deptDB['loc'].str.strip(\"' \")\n",
    "sawonDB['saname'] = sawonDB['saname'].str.strip(\"' \")\n",
    "sawonDB['sajob'] = sawonDB['sajob'].str.strip(\"' \")\n",
    "sawonDB['sahire'] = sawonDB['sahire'].str.strip(\"' \")\n",
    "sawonDB['sasex'] = sawonDB['sasex'].str.strip(\"' \")"
   ]
  },
  {
   "cell_type": "code",
   "execution_count": 3,
   "metadata": {},
   "outputs": [],
   "source": [
    "deptDB['dname'] = deptDB['dname'].str.strip(\"' \")\n",
    "deptDB['loc'] = deptDB['loc'].str.strip(\"' \")\n",
    "sawonDB['saname'] = sawonDB['saname'].str.strip(\"' \")\n",
    "sawonDB['sajob'] = sawonDB['sajob'].str.strip(\"' \")\n",
    "sawonDB['sahire'] = sawonDB['sahire'].str.strip(\"' \")\n",
    "sawonDB['sasex'] = sawonDB['sasex'].str.strip(\"' \")"
   ]
  },
  {
   "cell_type": "code",
   "execution_count": 4,
   "metadata": {},
   "outputs": [
    {
     "name": "stdout",
     "output_type": "stream",
     "text": [
      "   saname  sapay  deptno\n",
      "0     홍길동   5000      10\n",
      "1     한국남   3000      20\n",
      "2     이순신   3500      20\n",
      "3     이순라   1200      20\n",
      "4     놀기만   2300      20\n",
      "5     뷰별나   1600      20\n",
      "6     채시라   3400      20\n",
      "8     무궁화   3000      10\n",
      "9     임꺽정   2200      20\n",
      "10    깨똥이   4500      10\n",
      "15    뷰명한   1800      10\n",
      "16    무궁화   1100      10\n",
      "17    최진실   2000      10\n"
     ]
    }
   ],
   "source": [
    "# 문제 12] 부서번호가 10번,20번인 사원들의 \n",
    "#이름과 월급과 부서번호를 출력하시오\n",
    "\n",
    "b = sawonDB[sawonDB['deptno'].isin([10,20])]\n",
    "b[['saname','sapay','deptno']]\n",
    "print(b[['saname','sapay','deptno']])"
   ]
  },
  {
   "cell_type": "code",
   "execution_count": 5,
   "metadata": {},
   "outputs": [
    {
     "name": "stdout",
     "output_type": "stream",
     "text": [
      "   saname  sapay\n",
      "3     이순라   1200\n",
      "4     놀기만   2300\n",
      "5     뷰별나   1600\n",
      "7     이성계   2803\n",
      "9     임꺽정   2200\n",
      "12    채송화   1703\n",
      "13    이미라   2503\n",
      "14    공부해   1303\n",
      "15    뷰명한   1800\n",
      "16    무궁화   1100\n",
      "17    최진실   2000\n",
      "19    강감찬   1003\n"
     ]
    }
   ],
   "source": [
    "#문제 13] 급여가 1000~ 3000 사이의 직원 이름과 급여 출력\n",
    "c = sawonDB[sawonDB['sapay']< 3000]\n",
    "d = c[c['sapay']>= 1000]\n",
    "print(d[['saname','sapay']])"
   ]
  },
  {
   "cell_type": "code",
   "execution_count": 24,
   "metadata": {},
   "outputs": [
    {
     "name": "stdout",
     "output_type": "stream",
     "text": [
      "직책을 입력하세요 : 대리\n",
      "   saname sajob sasex\n",
      "12    채송화    대리    여자\n",
      "13    이미라    대리    여자\n",
      "15    뷰명한    대리    남자\n"
     ]
    }
   ],
   "source": [
    "#문제 21] 직업을 물어보게하고 직업을 입력하면 해당 직업인사원들의\n",
    "#이름과 직업이 출력되게하고 없는 직업을 입력하면 해당직업은 없습니다.\n",
    "\n",
    "a = input(\"직책을 입력하세요 : \")\n",
    "j = sawonDB[sawonDB['sajob'].isin([a])]\n",
    "p = sawonDB['sajob'].unique()\n",
    "if a in p:\n",
    "    print(j[['saname','sajob']])\n",
    "else:\n",
    "    print(\"해당 직책은 없습니다 다시 입력하세요\")"
   ]
  }
 ],
 "metadata": {
  "kernelspec": {
   "display_name": "Python 3",
   "language": "python",
   "name": "python3"
  },
  "language_info": {
   "codemirror_mode": {
    "name": "ipython",
    "version": 3
   },
   "file_extension": ".py",
   "mimetype": "text/x-python",
   "name": "python",
   "nbconvert_exporter": "python",
   "pygments_lexer": "ipython3",
   "version": "3.6.5"
  }
 },
 "nbformat": 4,
 "nbformat_minor": 2
}
