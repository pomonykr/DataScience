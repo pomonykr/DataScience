{
 "cells": [
  {
   "cell_type": "code",
   "execution_count": 1,
   "metadata": {},
   "outputs": [],
   "source": [
    "import pandas as pd"
   ]
  },
  {
   "cell_type": "code",
   "execution_count": 2,
   "metadata": {},
   "outputs": [],
   "source": [
    "dept = pd.read_csv('C:/_WsHongik20210507/data/deptDB.csv' ,names = ['deptno','dname','loc'],header=None)"
   ]
  },
  {
   "cell_type": "code",
   "execution_count": 16,
   "metadata": {},
   "outputs": [],
   "source": [
    "sawonDB = pd.read_csv('./data/sawonDB.csv',names = ['sabun','saname','deptno','sajob','sapay','sahire','sasex','samgr'],header=None)"
   ]
  },
  {
   "cell_type": "code",
   "execution_count": 5,
   "metadata": {},
   "outputs": [],
   "source": [
    "gogek = pd.read_csv(\"./data/gogekDB.csv\",names = ['gobun','goname','gotel','gojumin','godam'],header=None)"
   ]
  },
  {
   "cell_type": "code",
   "execution_count": 6,
   "metadata": {},
   "outputs": [],
   "source": [
    "dept =dept.replace('\\'','',regex=True)"
   ]
  },
  {
   "cell_type": "code",
   "execution_count": 13,
   "metadata": {},
   "outputs": [],
   "source": [
    "sawonDB = sawon.replace('\\'','',regex=True)"
   ]
  },
  {
   "cell_type": "code",
   "execution_count": 22,
   "metadata": {},
   "outputs": [
    {
     "name": "stdout",
     "output_type": "stream",
     "text": [
      "전산부 직원의 평균 연봉 :  1959.7142857142858\n"
     ]
    }
   ],
   "source": [
    "#문제 7] sawon 데이터에서 전산부 직원의 평균연봉 출력\n",
    "a = sawon[sawon['deptno']==30]\n",
    "# b = a.groupby('deptno')\n",
    "print(\"전산부 직원의 평균 연봉 : \",a['sapay'].mean())\n"
   ]
  }
 ],
 "metadata": {
  "kernelspec": {
   "display_name": "Python 3",
   "language": "python",
   "name": "python3"
  },
  "language_info": {
   "codemirror_mode": {
    "name": "ipython",
    "version": 3
   },
   "file_extension": ".py",
   "mimetype": "text/x-python",
   "name": "python",
   "nbconvert_exporter": "python",
   "pygments_lexer": "ipython3",
   "version": "3.6.5"
  }
 },
 "nbformat": 4,
 "nbformat_minor": 2
}
