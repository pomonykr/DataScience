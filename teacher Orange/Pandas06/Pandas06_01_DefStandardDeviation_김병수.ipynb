{
 "cells": [
  {
   "cell_type": "code",
   "execution_count": 4,
   "metadata": {},
   "outputs": [
    {
     "name": "stdout",
     "output_type": "stream",
     "text": [
      "평균 mMean() : 28\n"
     ]
    }
   ],
   "source": [
    "import pandas as pd\n",
    "datalist = [28,31,24,25,30,32,20,30,31,26,31]\n",
    "\n",
    "def mMean():\n",
    "    datalist.sort()\n",
    "    sum = 0\n",
    "    for i in range(len(datalist)):\n",
    "        sum += int(datalist[i])\n",
    "    mean = sum/len(datalist)\n",
    "    return mean\n",
    "\n",
    "print(\"평균 mMean() : %d\"%mMean())"
   ]
  },
  {
   "cell_type": "code",
   "execution_count": 5,
   "metadata": {},
   "outputs": [
    {
     "name": "stdout",
     "output_type": "stream",
     "text": [
      "중위수 mMedian() : 30\n"
     ]
    }
   ],
   "source": [
    "def mMedian():\n",
    "    \n",
    "    for i in range(len(datalist)-1):\n",
    "        for j in range(i+1,len(datalist)):\n",
    "            if datalist[i]>datalist[j]:\n",
    "                datalist[i],datalist[j] = datalist[j],datalist[i]\n",
    "    if len(datalist) % 2 == 0:\n",
    "        return (datalist[int(len(datalist)/2)]) + datalist[int(len(datalist)/2)-1]\n",
    "    else:\n",
    "        return datalist[int(len(datalist)/2)]\n",
    "                \n",
    "print(\"중위수 mMedian() : %d\"%mMedian())"
   ]
  },
  {
   "cell_type": "code",
   "execution_count": 6,
   "metadata": {},
   "outputs": [
    {
     "name": "stdout",
     "output_type": "stream",
     "text": [
      "편차 mDeviation() : [-8.0, -4.0, -3.0, -2.0, 0.0, 2.0, 2.0, 3.0, 3.0, 3.0, 4.0]\n"
     ]
    }
   ],
   "source": [
    "def mDeviation():\n",
    "    dev = []\n",
    "    for i in range(len(datalist)):\n",
    "        \n",
    "        dev.append(datalist[i]-mMean())\n",
    "    return dev\n",
    "    \n",
    "\n",
    "print(\"편차 mDeviation() : %s\"%mDeviation())"
   ]
  },
  {
   "cell_type": "code",
   "execution_count": 23,
   "metadata": {},
   "outputs": [
    {
     "name": "stdout",
     "output_type": "stream",
     "text": [
      "분산 mVariance() : 14.4\n"
     ]
    }
   ],
   "source": [
    "def mVariance():\n",
    "    j=[]\n",
    "    i=0\n",
    "    a = mDeviation()\n",
    "    for k in range(len(a)):\n",
    "        j.append(a[k]**2)\n",
    "    e = sum(j)\n",
    "    p = e / (len(a)-1)\n",
    "    return p\n",
    "\n",
    "print(\"분산 mVariance() : %s\"%mVariance())    "
   ]
  },
  {
   "cell_type": "code",
   "execution_count": 8,
   "metadata": {},
   "outputs": [
    {
     "name": "stdout",
     "output_type": "stream",
     "text": [
      "표준편차 mStandardDeviation() : 3.4771984543464143\n"
     ]
    }
   ],
   "source": [
    "def mStandardDeviation():\n",
    "    b = mVariance()\n",
    "    h = b ** 0.5\n",
    "    return h\n",
    "    \n",
    "print(\"표준편차 mStandardDeviation() : %s\"%mStandardDeviation())    "
   ]
  },
  {
   "cell_type": "code",
   "execution_count": 14,
   "metadata": {},
   "outputs": [
    {
     "name": "stdout",
     "output_type": "stream",
     "text": [
      "범위 mRange() : 12\n"
     ]
    }
   ],
   "source": [
    "def mRange():\n",
    "    c = max(datalist) - min(datalist)\n",
    "    return c\n",
    "    \n",
    "print(\"범위 mRange() : %d\"%mRange())    \n"
   ]
  },
  {
   "cell_type": "code",
   "execution_count": null,
   "metadata": {},
   "outputs": [],
   "source": [
    "#반증"
   ]
  },
  {
   "cell_type": "code",
   "execution_count": 16,
   "metadata": {},
   "outputs": [
    {
     "name": "stdout",
     "output_type": "stream",
     "text": [
      "28.0\n"
     ]
    }
   ],
   "source": [
    "print(mMean())"
   ]
  },
  {
   "cell_type": "code",
   "execution_count": 17,
   "metadata": {},
   "outputs": [
    {
     "name": "stdout",
     "output_type": "stream",
     "text": [
      "30\n"
     ]
    }
   ],
   "source": [
    "print(mMedian())"
   ]
  },
  {
   "cell_type": "code",
   "execution_count": 18,
   "metadata": {},
   "outputs": [
    {
     "name": "stdout",
     "output_type": "stream",
     "text": [
      "[-8.0, -4.0, -3.0, -2.0, 0.0, 2.0, 2.0, 3.0, 3.0, 3.0, 4.0]\n"
     ]
    }
   ],
   "source": [
    "print(mDeviation())"
   ]
  },
  {
   "cell_type": "code",
   "execution_count": 19,
   "metadata": {},
   "outputs": [
    {
     "name": "stdout",
     "output_type": "stream",
     "text": [
      "12.090909090909092\n"
     ]
    }
   ],
   "source": [
    "print(mVariance())"
   ]
  },
  {
   "cell_type": "code",
   "execution_count": 9,
   "metadata": {},
   "outputs": [
    {
     "data": {
      "text/plain": [
       "3.4771984543464143"
      ]
     },
     "execution_count": 9,
     "metadata": {},
     "output_type": "execute_result"
    }
   ],
   "source": [
    "print(mStandardDeviation())"
   ]
  },
  {
   "cell_type": "code",
   "execution_count": 20,
   "metadata": {},
   "outputs": [
    {
     "name": "stdout",
     "output_type": "stream",
     "text": [
      "12\n"
     ]
    }
   ],
   "source": [
    "print(mRange())"
   ]
  }
 ],
 "metadata": {
  "kernelspec": {
   "display_name": "Python 3",
   "language": "python",
   "name": "python3"
  },
  "language_info": {
   "codemirror_mode": {
    "name": "ipython",
    "version": 3
   },
   "file_extension": ".py",
   "mimetype": "text/x-python",
   "name": "python",
   "nbconvert_exporter": "python",
   "pygments_lexer": "ipython3",
   "version": "3.6.5"
  }
 },
 "nbformat": 4,
 "nbformat_minor": 2
}
