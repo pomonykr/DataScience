{
 "cells": [
  {
   "cell_type": "code",
   "execution_count": 1,
   "metadata": {},
   "outputs": [],
   "source": [
    "import pandas as pd"
   ]
  },
  {
   "cell_type": "code",
   "execution_count": 11,
   "metadata": {},
   "outputs": [],
   "source": [
    "lst= [28,31,24,25,30,32,20,30,31,26,31]"
   ]
  },
  {
   "cell_type": "code",
   "execution_count": 12,
   "metadata": {},
   "outputs": [],
   "source": [
    "df = pd.Series(lst)"
   ]
  },
  {
   "cell_type": "code",
   "execution_count": 13,
   "metadata": {},
   "outputs": [
    {
     "name": "stdout",
     "output_type": "stream",
     "text": [
      "Built-in 정렬 sort_values() : \n",
      " 6     20\n",
      "2     24\n",
      "3     25\n",
      "9     26\n",
      "0     28\n",
      "4     30\n",
      "7     30\n",
      "1     31\n",
      "8     31\n",
      "10    31\n",
      "5     32\n",
      "dtype: int64\n"
     ]
    }
   ],
   "source": [
    "print(\"Built-in 정렬 sort_values() : \\n\", df.sort_values(ascending=True))"
   ]
  },
  {
   "cell_type": "code",
   "execution_count": 14,
   "metadata": {},
   "outputs": [
    {
     "name": "stdout",
     "output_type": "stream",
     "text": [
      "Built-in 평균 mean() : 28\n"
     ]
    }
   ],
   "source": [
    "print(\"Built-in 평균 mean() : %d\"%df.mean())"
   ]
  },
  {
   "cell_type": "code",
   "execution_count": 15,
   "metadata": {},
   "outputs": [
    {
     "name": "stdout",
     "output_type": "stream",
     "text": [
      "Built-in 중위수 median() : 30\n"
     ]
    }
   ],
   "source": [
    "print(\"Built-in 중위수 median() : %d\"% df.median())"
   ]
  },
  {
   "cell_type": "code",
   "execution_count": 16,
   "metadata": {},
   "outputs": [
    {
     "name": "stdout",
     "output_type": "stream",
     "text": [
      "Built-in 분산 var() : 14\n"
     ]
    }
   ],
   "source": [
    "print(\"Built-in 분산 var() : %d\"%df.var())"
   ]
  },
  {
   "cell_type": "code",
   "execution_count": 17,
   "metadata": {},
   "outputs": [
    {
     "name": "stdout",
     "output_type": "stream",
     "text": [
      "Built-in 표준편차 std() : 3\n"
     ]
    }
   ],
   "source": [
    "print(\"Built-in 표준편차 std() : %d\"%df.std())"
   ]
  },
  {
   "cell_type": "code",
   "execution_count": 21,
   "metadata": {},
   "outputs": [
    {
     "name": "stdout",
     "output_type": "stream",
     "text": [
      "Built-in 제1사분위수 quantile() : 25\n"
     ]
    }
   ],
   "source": [
    "print(\"Built-in 제1사분위수 quantile() : %d\"%df.quantile(q=0.25))"
   ]
  },
  {
   "cell_type": "code",
   "execution_count": 20,
   "metadata": {},
   "outputs": [
    {
     "name": "stdout",
     "output_type": "stream",
     "text": [
      "Built-in 제1사분위수 quantile() : 30\n"
     ]
    }
   ],
   "source": [
    "print(\"Built-in 제1사분위수 quantile() : %d\"%df.quantile(q=0.5))"
   ]
  },
  {
   "cell_type": "code",
   "execution_count": 19,
   "metadata": {},
   "outputs": [
    {
     "name": "stdout",
     "output_type": "stream",
     "text": [
      "Built-in 제1사분위수 quantile() : 31\n"
     ]
    }
   ],
   "source": [
    "print(\"Built-in 제1사분위수 quantile() : %d\"%df.quantile(q=0.75))"
   ]
  },
  {
   "cell_type": "code",
   "execution_count": 22,
   "metadata": {},
   "outputs": [],
   "source": [
    "import numpy"
   ]
  },
  {
   "cell_type": "code",
   "execution_count": 23,
   "metadata": {},
   "outputs": [],
   "source": [
    "bstd = numpy.std(lst)"
   ]
  },
  {
   "cell_type": "code",
   "execution_count": 24,
   "metadata": {},
   "outputs": [
    {
     "name": "stdout",
     "output_type": "stream",
     "text": [
      "Built-in 표준편차 mMean() : 3\n"
     ]
    }
   ],
   "source": [
    "print(\"Built-in 표준편차 mMean() : %d\"%bstd)"
   ]
  }
 ],
 "metadata": {
  "kernelspec": {
   "display_name": "Python 3",
   "language": "python",
   "name": "python3"
  },
  "language_info": {
   "codemirror_mode": {
    "name": "ipython",
    "version": 3
   },
   "file_extension": ".py",
   "mimetype": "text/x-python",
   "name": "python",
   "nbconvert_exporter": "python",
   "pygments_lexer": "ipython3",
   "version": "3.6.5"
  }
 },
 "nbformat": 4,
 "nbformat_minor": 2
}
