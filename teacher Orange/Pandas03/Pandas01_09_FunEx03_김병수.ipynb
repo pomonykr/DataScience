{
 "cells": [
  {
   "cell_type": "code",
   "execution_count": 2,
   "metadata": {},
   "outputs": [],
   "source": [
    "def add_mul(choice,*args):\n",
    "\tif choice == \"add\":\n",
    "\t\tresult = 0\n",
    "\t\tfor i in args:\n",
    "\t\t\tresult = result+i\n",
    "\telif choice == \"mul\":\n",
    "\t\tresult = 1\n",
    "\t\tfor i in args:\n",
    "\t\t\tresult = result*i\n",
    "\treturn result"
   ]
  },
  {
   "cell_type": "code",
   "execution_count": 4,
   "metadata": {},
   "outputs": [
    {
     "name": "stdout",
     "output_type": "stream",
     "text": [
      "5\n",
      "--------------------\n",
      "6\n"
     ]
    }
   ],
   "source": [
    "result1 = add_mul('add',2,3)\n",
    "print(result1)\n",
    "print(\"-\" * 20)\n",
    "result2 = add_mul('mul',2,3)\n",
    "print(result2)\n"
   ]
  }
 ],
 "metadata": {
  "kernelspec": {
   "display_name": "Python 3",
   "language": "python",
   "name": "python3"
  },
  "language_info": {
   "codemirror_mode": {
    "name": "ipython",
    "version": 3
   },
   "file_extension": ".py",
   "mimetype": "text/x-python",
   "name": "python",
   "nbconvert_exporter": "python",
   "pygments_lexer": "ipython3",
   "version": "3.6.5"
  }
 },
 "nbformat": 4,
 "nbformat_minor": 2
}
